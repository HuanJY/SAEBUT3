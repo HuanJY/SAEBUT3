{
  "cells": [
    {
      "cell_type": "markdown",
      "metadata": {
        "id": "aZsTXyU2kzh_"
      },
      "source": [
        "\n",
        "# Classification de Genre avec CNN"
      ]
    },
    {
      "cell_type": "code",
      "execution_count": 1,
      "metadata": {
        "colab": {
          "base_uri": "https://localhost:8080/"
        },
        "collapsed": true,
        "id": "dJOfdXd0rLkq",
        "outputId": "13ab30ca-baf0-4cce-dbde-315b63871de9"
      },
      "outputs": [
        {
          "name": "stdout",
          "output_type": "stream",
          "text": [
            "Mounted at /content/drive\n"
          ]
        }
      ],
      "source": [
        "from google.colab import drive\n",
        "drive.mount('/content/drive')"
      ]
    },
    {
      "cell_type": "code",
      "execution_count": 2,
      "metadata": {
        "collapsed": true,
        "id": "wvVRgsvbrOGi"
      },
      "outputs": [],
      "source": [
        "!unzip -qq \"/content/drive/MyDrive/UTKFace.zip\" -d \"/content/UTKFace\""
      ]
    },
    {
      "cell_type": "code",
      "execution_count": 3,
      "metadata": {
        "id": "vCDg6rcirX27"
      },
      "outputs": [],
      "source": [
        "#Importation des bibliothèques\n",
        "#Bibliothèques standards\n",
        "import os\n",
        "import random\n",
        "import numpy as np\n",
        "import matplotlib.pyplot as plt\n",
        "import cv2\n",
        "\n",
        "#TensorFlow & Keras\n",
        "import tensorflow as tf\n",
        "from tensorflow import keras\n",
        "from tensorflow.keras.models import Sequential\n",
        "from tensorflow.keras.layers import (\n",
        "    Conv2D, MaxPooling2D, Flatten, Dense, Dropout, BatchNormalization,\n",
        "    Input, RandomFlip, RandomRotation, RandomZoom\n",
        ")\n",
        "from tensorflow.keras.optimizers import Adam\n",
        "from tensorflow.keras.callbacks import EarlyStopping, ModelCheckpoint, ReduceLROnPlateau\n",
        "\n",
        "# Scikit-learn\n",
        "from sklearn.model_selection import train_test_split\n",
        "from sklearn.metrics import (\n",
        "    classification_report, accuracy_score, mean_absolute_error\n",
        ")\n"
      ]
    },
    {
      "cell_type": "code",
      "execution_count": null,
      "metadata": {
        "id": "a6Y6ISogUs21"
      },
      "outputs": [],
      "source": [
        "DATA_DIR = \"/content/UTKFace/UTKFace\""
      ]
    },
    {
      "cell_type": "code",
      "execution_count": null,
      "metadata": {
        "id": "y0TdC-l4tmTV"
      },
      "outputs": [],
      "source": [
        "#Redimensionnement\n",
        "IMG_HEIGHT = 64\n",
        "IMG_WIDTH = 64"
      ]
    },
    {
      "cell_type": "markdown",
      "metadata": {
        "id": "uZOOhUwt6CiH"
      },
      "source": [
        "## Visualisation de la répartition des sexes"
      ]
    },
    {
      "cell_type": "markdown",
      "metadata": {
        "id": "wG0g8LU_oBc4"
      },
      "source": [
        "Avant de construire un modèle de classification basé sur un réseau de neurones convolutifs (CNN), nous analysons la répartition des données.\n",
        "\n",
        "Cette étape permet de vérifier si le dataset est équilibré entre les classes, ici les genres \"Homme\" et \"Femme\".\n",
        "\n",
        "Un déséquilibre dans les données pourrait entraîner un biais dans l’apprentissage du modèle, qui risquerait alors de mieux reconnaître la classe majoritaire au détriment de l’autre.\n",
        "\n",
        "Une visualisation sous forme d’histogramme permet donc d’identifier d’éventuelles disparités et d’envisager solutions comme l’augmentation des données ou la pondération des classes dans la fonction de perte."
      ]
    },
    {
      "cell_type": "code",
      "execution_count": null,
      "metadata": {
        "colab": {
          "base_uri": "https://localhost:8080/",
          "height": 478
        },
        "id": "NXS9xwO2qlRq",
        "outputId": "8a8b5cfb-5273-49dd-ca6f-07f9dd6154f7"
      },
      "outputs": [
        {
          "data": {
            "image/png": "[encoded data removed]",
            "text/plain": [
              "<Figure size 640x480 with 1 Axes>"
            ]
          },
          "metadata": {},
          "output_type": "display_data"
        }
      ],
      "source": [
        "# Le format des images est nommé de la manière suivante : \"age_sexe_ethnie_dateNaiss.jpg\"\n",
        "\n",
        "file_names = os.listdir(DATA_DIR)\n",
        "sex_labels = []\n",
        "for file in file_names:\n",
        "    parts = file.split('_')\n",
        "    if len(parts) > 1:  # Vérifie que le format est correct\n",
        "        sex_labels.append(int(parts[1]))  # Le deuxième élément est le sexe (0 = Homme, 1 = Femme)\n",
        "\n",
        "# Compter les occurrences pour chaque sexe\n",
        "labels, counts = np.unique(sex_labels, return_counts=True)\n",
        "\n",
        "# Convertir les occurrences en pourcentages\n",
        "percentages = (counts / counts.sum()) * 100\n",
        "\n",
        "# Noms des classes\n",
        "class_names = [\"Homme\", \"Femme\"]\n",
        "\n",
        "# Visualisation en graphique à barres\n",
        "plt.bar(class_names, percentages, color=['#AEC6CF', '#FFB6C1'], alpha=0.7)\n",
        "plt.title(\"Répartition des genres dans le dataset UTKFace\", fontsize=14)\n",
        "plt.ylabel(\"Pourcentage (%)\", fontsize=12)\n",
        "plt.xlabel(\"Genre\", fontsize=12)\n",
        "plt.ylim(0, 100)\n",
        "plt.grid(axis='y', linestyle='--', alpha=0.6)\n",
        "plt.show()\n"
      ]
    },
    {
      "cell_type": "markdown",
      "metadata": {
        "id": "8-j7q5m8rIm2"
      },
      "source": [
        "L’histogramme montre que le dataset UTKFace contient une légère dominance des images associées à la classe \"Homme\" par rapport à la classe \"Femme\" (environ 55% contre 45%).\n",
        "\n",
        "Bien que cet écart ne soit pas extrêmement marqué, il peut influencer la performance du modèle si celui-ci tend à privilégier la classe majoritaire.\n",
        "\n",
        "Une attention particulière sera donc portée à l’évaluation des métriques de performance (précision, rappel, F1-score) afin de s’assurer que le modèle ne favorise pas une classe au détriment de l’autre."
      ]
    },
    {
      "cell_type": "markdown",
      "metadata": {
        "id": "7gLHomJpItWM"
      },
      "source": [
        "## Traitement des images d'UTKFace"
      ]
    },
    {
      "cell_type": "markdown",
      "metadata": {
        "id": "yzjcIjIoqLxH"
      },
      "source": [
        "Avant d'entraîner notre modèle CNN, nous prétraitons les images.\n",
        "\n",
        "Le code ci-dessus effectue plusieurs étapes pour charger, nettoyer et préparer les images du dataset UTKFace:"
      ]
    },
    {
      "cell_type": "code",
      "execution_count": null,
      "metadata": {
        "id": "Od7n-661tvEH"
      },
      "outputs": [],
      "source": [
        "#TRAITEMENT DE L'IMAGE\n",
        "\n",
        "def load_data(data_dir=DATA_DIR):\n",
        "    X = [] #liste d'img après traitement convertit en NumPY\n",
        "    y = [] #liste contenant les genres\n",
        "\n",
        "    # Récup tts les img dans UTKFace\n",
        "    file_names = os.listdir(data_dir)\n",
        "\n",
        "    for file in file_names:\n",
        "        # nom de fichier type \"age_sexe_ethnie_dateNaiss.jpg\"\n",
        "        # On récupère le deuxième champ pour le genre\n",
        "        # 0 => Homme, 1 => Femme\n",
        "        parts = file.split(\"_\")\n",
        "        gender_str = parts[1]\n",
        "        try:\n",
        "            gender = int(gender_str)\n",
        "        except:\n",
        "            continue\n",
        "\n",
        "        # lecture\n",
        "        img_path = os.path.join(data_dir, file)\n",
        "        img = cv2.imread(img_path)\n",
        "        if img is None:\n",
        "            continue\n",
        "\n",
        "        # conversion en RGB (cv2 lit en BGR par défaut)\n",
        "        img = cv2.cvtColor(img, cv2.COLOR_BGR2RGB)\n",
        "\n",
        "        # redimension\n",
        "        img = cv2.resize(img, (IMG_WIDTH, IMG_HEIGHT))\n",
        "\n",
        "        # Normalisation\n",
        "        img = img.astype(\"float32\") / 255.0\n",
        "\n",
        "        X.append(img)\n",
        "        y.append(gender)\n",
        "\n",
        "    return np.array(X), np.array(y)\n"
      ]
    },
    {
      "cell_type": "markdown",
      "metadata": {
        "id": "UNea5GFHqn41"
      },
      "source": [
        "Tout d'abord, nous récupérons la liste des fichiers images présents dans le dossier contenant le dataset.\n",
        "\n",
        "Chaque fichier suit un format de nommage standard : \"age_sexe_ethnie_dateNaiss.jpg\", où la deuxième valeur représente le genre (0 pour homme, 1 pour femme).\n",
        "\n",
        "Nous extrayons cette valeur pour créer notre vecteur ```y```, qui servira de labels pour la classification.\n",
        "\n",
        "Ensuite, chaque image est chargée:\n",
        " ```(cv2.imread())```.\n",
        "\n",
        "Par défaut, OpenCV charge les images en format BGR, nous les convertissons donc en RGB : ```(cv2.cvtColor(img, cv2.COLOR_BGR2RGB))```.\n",
        "\n",
        "Une fois convertie, l’image est redimensionnée ```(cv2.resize(img, (IMG_WIDTH, IMG_HEIGHT)))``` à une taille définie (64x64 pixels dans notre cas).\n",
        "\n",
        "Enfin, nous normalisons les valeurs des pixels en les divisant par 255 : ```(img.astype(\"float32\") / 255.0)```, ce qui permet d'avoir des valeurs comprises entre 0 et 1.\n",
        "\n",
        "Les images traitées sont stockées dans un tableau  ```X```, et les labels correspondants dans ```y```."
      ]
    },
    {
      "cell_type": "code",
      "execution_count": null,
      "metadata": {
        "colab": {
          "base_uri": "https://localhost:8080/"
        },
        "id": "3idVADgIqnkc",
        "outputId": "f67d0997-62ab-4c5a-8006-1256249beeeb"
      },
      "outputs": [
        {
          "name": "stdout",
          "output_type": "stream",
          "text": [
            "Nombre d'images chargées : 23708\n",
            "Dimension de X : (23708, 64, 64, 3)\n",
            "Dimension de y : (23708,)\n"
          ]
        }
      ],
      "source": [
        "# Chargement des données\n",
        "X, y = load_data(DATA_DIR)\n",
        "\n",
        "print(\"Nombre d'images chargées :\", len(X))\n",
        "print(\"Dimension de X :\", X.shape)\n",
        "print(\"Dimension de y :\", y.shape)"
      ]
    },
    {
      "cell_type": "markdown",
      "metadata": {
        "id": "Yum7GH7crXKW"
      },
      "source": [
        "Le chargement et le prétraitement ont permis d’obtenir 23 708 images, toutes converties au format RGB, redimensionnées et normalisées.\n",
        "\n",
        "Les dimensions finales des tableaux de données sont :\n",
        "\n",
        "```X.shape``` : (23708, 64, 64, 3), indiquant que nous avons 23 708 images de taille 64x64 avec 3 canaux de couleurs (RGB).\n",
        "\n",
        "```y.shape``` : (23708,), représentant le vecteur des labels associés à chaque image."
      ]
    },
    {
      "cell_type": "markdown",
      "metadata": {
        "id": "yzTOCG_P54Cr"
      },
      "source": [
        "## Division du jeu de données"
      ]
    },
    {
      "cell_type": "markdown",
      "metadata": {
        "id": "LPIizvr8th4b"
      },
      "source": [
        "Pour évaluer correctement la capacité de généralisation d’un modèle, nous séparons les données en plusieurs sous-ensembles :\n",
        "\n",
        "- **Jeu d’entraînement (train) 64%** : Est la partie la plus importante car c'est là où le modèle apprend. Plus il y a de données, mieux il pourra généraliser.\n",
        "\n",
        " On pourrait vouloir 80-90% pour l'entraînement, mais cela signifie moins de données pour la validation.\n",
        "\n",
        " Or, sans validation, on ne pourrait pas mesurer correctement si le modèle est en train de sur-apprendre (overfitting).\n",
        "\n",
        "\n",
        "- **Jeu de validation (val) 20%** : Permet d’affiner les hyperparamètres (nombre d’époques, taux d’apprentissage, etc.) et de détecter le surapprentissage (overfitting).  \n",
        "Si on met trop peu (ex. 5-10%), les ajustements risquent d’être moins précis.\n",
        "\n",
        " Si on met trop (ex. 30-40%), il reste trop peu de données pour entraîner le modèle.\n",
        "\n",
        "\n",
        "- **Jeu de test (test) 20%** : Utilisé uniquement pour évaluer les performances finales du modèle sur des données qu’il n’a jamais vues. Il sert à estimer comment le modèle se comportera sur des nouvelles images dans un contexte réel/\n",
        "\n",
        " Si on prend trop peu de données en test (<10%), la mesure de performance sera peu fiable.\n",
        "\n",
        " Si on prend trop de données en test (>30%), on réduit trop l’ensemble d'entraînement et le modèle risque d’apprendre moins bien."
      ]
    },
    {
      "cell_type": "code",
      "execution_count": null,
      "metadata": {
        "colab": {
          "base_uri": "https://localhost:8080/"
        },
        "id": "7Wnkfp6KxIZP",
        "outputId": "e42c98dc-aead-4c8a-971c-dc8b76ba6c9b"
      },
      "outputs": [
        {
          "name": "stdout",
          "output_type": "stream",
          "text": [
            "Taille du jeu d'entraînement : (15172, 64, 64, 3) 15172\n",
            "Taille du jeu de test : (4742, 64, 64, 3) 4742\n"
          ]
        }
      ],
      "source": [
        "#DIVISER LE JEU DE DONN2ES :\n",
        "\n",
        "# 1. Jeu d'entraînement (X_train, y_train) : utilisé pour entraîner le modèle.\n",
        "    #Jeu de test (X_test, y_test) : utilisé pour évaluer les performances du modèle sur des données qu'il n'a jamais vues.\n",
        "X_train, X_test, y_train, y_test = train_test_split(\n",
        "    X, y,\n",
        "    test_size=0.2,    # 20% pour le jeu de test\n",
        "    stratify=y         # Proportions de classes respectées\n",
        ")\n",
        "\n",
        "# 2. Séparer l'entraînement en sous-ensemble d'entraînement et de validation\n",
        "X_train, X_val, y_train, y_val = train_test_split(\n",
        "    X_train, y_train,\n",
        "    test_size=0.2,  # 10% de l'entraînement pour la validation\n",
        "    stratify=y_train\n",
        ")\n",
        "\n",
        "print(\"Taille du jeu d'entraînement :\", X_train.shape, len(y_train))\n",
        "print(\"Taille du jeu de test :\", X_test.shape, len(y_test))"
      ]
    },
    {
      "cell_type": "markdown",
      "metadata": {
        "id": "x4TnxLl960zS"
      },
      "source": [
        "## I. Première Observation : Implémentation d'un Modèle Simple"
      ]
    },
    {
      "cell_type": "markdown",
      "metadata": {
        "id": "bmEatwHB17Kd"
      },
      "source": [
        "Avant d'élaborer un grand modèle, nous commencerons par une première expérimentation avec une architecture simple.\n",
        "\n",
        "L'objectif ici est d'obtenir une première estimation de la performance d'un CNN minimaliste sur la classification de genre avec le dataset UTKFace.\n",
        "\n",
        "Cette approche permet d'identifier les améliorations pour les prochaines versions du modèle."
      ]
    },
    {
      "cell_type": "markdown",
      "metadata": {
        "id": "I2bOiv6-2hGz"
      },
      "source": [
        "### Implémentation 1"
      ]
    },
    {
      "cell_type": "code",
      "execution_count": null,
      "metadata": {
        "colab": {
          "base_uri": "https://localhost:8080/",
          "height": 289
        },
        "collapsed": true,
        "id": "yHtoQAKp3U32",
        "outputId": "5a7fc2a7-7335-484f-e5dd-e9fb81ed5eed"
      },
      "outputs": [
        {
          "data": {
            "text/html": [
              "<pre style=\"white-space:pre;overflow-x:auto;line-height:normal;font-family:Menlo,'DejaVu Sans Mono',consolas,'Courier New',monospace\"><span style=\"font-weight: bold\">Model: \"sequential\"</span>\n",
              "</pre>\n"
            ],
            "text/plain": [
              "\u001b[1mModel: \"sequential\"\u001b[0m\n"
            ]
          },
          "metadata": {},
          "output_type": "display_data"
        },
        {
          "data": {
            "text/html": [
              "<pre style=\"white-space:pre;overflow-x:auto;line-height:normal;font-family:Menlo,'DejaVu Sans Mono',consolas,'Courier New',monospace\">┏━━━━━━━━━━━━━━━━━━━━━━━━━━━━━━━━━━━━━━┳━━━━━━━━━━━━━━━━━━━━━━━━━━━━━┳━━━━━━━━━━━━━━━━━┓\n",
              "┃<span style=\"font-weight: bold\"> Layer (type)                         </span>┃<span style=\"font-weight: bold\"> Output Shape                </span>┃<span style=\"font-weight: bold\">         Param # </span>┃\n",
              "┡━━━━━━━━━━━━━━━━━━━━━━━━━━━━━━━━━━━━━━╇━━━━━━━━━━━━━━━━━━━━━━━━━━━━━╇━━━━━━━━━━━━━━━━━┩\n",
              "│ conv2d (<span style=\"color: #0087ff; text-decoration-color: #0087ff\">Conv2D</span>)                      │ (<span style=\"color: #00d7ff; text-decoration-color: #00d7ff\">None</span>, <span style=\"color: #00af00; text-decoration-color: #00af00\">62</span>, <span style=\"color: #00af00; text-decoration-color: #00af00\">62</span>, <span style=\"color: #00af00; text-decoration-color: #00af00\">16</span>)          │             <span style=\"color: #00af00; text-decoration-color: #00af00\">448</span> │\n",
              "├──────────────────────────────────────┼─────────────────────────────┼─────────────────┤\n",
              "│ max_pooling2d (<span style=\"color: #0087ff; text-decoration-color: #0087ff\">MaxPooling2D</span>)         │ (<span style=\"color: #00d7ff; text-decoration-color: #00d7ff\">None</span>, <span style=\"color: #00af00; text-decoration-color: #00af00\">31</span>, <span style=\"color: #00af00; text-decoration-color: #00af00\">31</span>, <span style=\"color: #00af00; text-decoration-color: #00af00\">16</span>)          │               <span style=\"color: #00af00; text-decoration-color: #00af00\">0</span> │\n",
              "├──────────────────────────────────────┼─────────────────────────────┼─────────────────┤\n",
              "│ flatten (<span style=\"color: #0087ff; text-decoration-color: #0087ff\">Flatten</span>)                    │ (<span style=\"color: #00d7ff; text-decoration-color: #00d7ff\">None</span>, <span style=\"color: #00af00; text-decoration-color: #00af00\">15376</span>)               │               <span style=\"color: #00af00; text-decoration-color: #00af00\">0</span> │\n",
              "├──────────────────────────────────────┼─────────────────────────────┼─────────────────┤\n",
              "│ dense (<span style=\"color: #0087ff; text-decoration-color: #0087ff\">Dense</span>)                        │ (<span style=\"color: #00d7ff; text-decoration-color: #00d7ff\">None</span>, <span style=\"color: #00af00; text-decoration-color: #00af00\">16</span>)                  │         <span style=\"color: #00af00; text-decoration-color: #00af00\">246,032</span> │\n",
              "├──────────────────────────────────────┼─────────────────────────────┼─────────────────┤\n",
              "│ dense_1 (<span style=\"color: #0087ff; text-decoration-color: #0087ff\">Dense</span>)                      │ (<span style=\"color: #00d7ff; text-decoration-color: #00d7ff\">None</span>, <span style=\"color: #00af00; text-decoration-color: #00af00\">1</span>)                   │              <span style=\"color: #00af00; text-decoration-color: #00af00\">17</span> │\n",
              "└──────────────────────────────────────┴─────────────────────────────┴─────────────────┘\n",
              "</pre>\n"
            ],
            "text/plain": [
              "┏━━━━━━━━━━━━━━━━━━━━━━━━━━━━━━━━━━━━━━┳━━━━━━━━━━━━━━━━━━━━━━━━━━━━━┳━━━━━━━━━━━━━━━━━┓\n",
              "┃\u001b[1m \u001b[0m\u001b[1mLayer (type)                        \u001b[0m\u001b[1m \u001b[0m┃\u001b[1m \u001b[0m\u001b[1mOutput Shape               \u001b[0m\u001b[1m \u001b[0m┃\u001b[1m \u001b[0m\u001b[1m        Param #\u001b[0m\u001b[1m \u001b[0m┃\n",
              "┡━━━━━━━━━━━━━━━━━━━━━━━━━━━━━━━━━━━━━━╇━━━━━━━━━━━━━━━━━━━━━━━━━━━━━╇━━━━━━━━━━━━━━━━━┩\n",
              "│ conv2d (\u001b[38;5;33mConv2D\u001b[0m)                      │ (\u001b[38;5;45mNone\u001b[0m, \u001b[38;5;34m62\u001b[0m, \u001b[38;5;34m62\u001b[0m, \u001b[38;5;34m16\u001b[0m)          │             \u001b[38;5;34m448\u001b[0m │\n",
              "├──────────────────────────────────────┼─────────────────────────────┼─────────────────┤\n",
              "│ max_pooling2d (\u001b[38;5;33mMaxPooling2D\u001b[0m)         │ (\u001b[38;5;45mNone\u001b[0m, \u001b[38;5;34m31\u001b[0m, \u001b[38;5;34m31\u001b[0m, \u001b[38;5;34m16\u001b[0m)          │               \u001b[38;5;34m0\u001b[0m │\n",
              "├──────────────────────────────────────┼─────────────────────────────┼─────────────────┤\n",
              "│ flatten (\u001b[38;5;33mFlatten\u001b[0m)                    │ (\u001b[38;5;45mNone\u001b[0m, \u001b[38;5;34m15376\u001b[0m)               │               \u001b[38;5;34m0\u001b[0m │\n",
              "├──────────────────────────────────────┼─────────────────────────────┼─────────────────┤\n",
              "│ dense (\u001b[38;5;33mDense\u001b[0m)                        │ (\u001b[38;5;45mNone\u001b[0m, \u001b[38;5;34m16\u001b[0m)                  │         \u001b[38;5;34m246,032\u001b[0m │\n",
              "├──────────────────────────────────────┼─────────────────────────────┼─────────────────┤\n",
              "│ dense_1 (\u001b[38;5;33mDense\u001b[0m)                      │ (\u001b[38;5;45mNone\u001b[0m, \u001b[38;5;34m1\u001b[0m)                   │              \u001b[38;5;34m17\u001b[0m │\n",
              "└──────────────────────────────────────┴─────────────────────────────┴─────────────────┘\n"
            ]
          },
          "metadata": {},
          "output_type": "display_data"
        },
        {
          "data": {
            "text/html": [
              "<pre style=\"white-space:pre;overflow-x:auto;line-height:normal;font-family:Menlo,'DejaVu Sans Mono',consolas,'Courier New',monospace\"><span style=\"font-weight: bold\"> Total params: </span><span style=\"color: #00af00; text-decoration-color: #00af00\">246,497</span> (962.88 KB)\n",
              "</pre>\n"
            ],
            "text/plain": [
              "\u001b[1m Total params: \u001b[0m\u001b[38;5;34m246,497\u001b[0m (962.88 KB)\n"
            ]
          },
          "metadata": {},
          "output_type": "display_data"
        },
        {
          "data": {
            "text/html": [
              "<pre style=\"white-space:pre;overflow-x:auto;line-height:normal;font-family:Menlo,'DejaVu Sans Mono',consolas,'Courier New',monospace\"><span style=\"font-weight: bold\"> Trainable params: </span><span style=\"color: #00af00; text-decoration-color: #00af00\">246,497</span> (962.88 KB)\n",
              "</pre>\n"
            ],
            "text/plain": [
              "\u001b[1m Trainable params: \u001b[0m\u001b[38;5;34m246,497\u001b[0m (962.88 KB)\n"
            ]
          },
          "metadata": {},
          "output_type": "display_data"
        },
        {
          "data": {
            "text/html": [
              "<pre style=\"white-space:pre;overflow-x:auto;line-height:normal;font-family:Menlo,'DejaVu Sans Mono',consolas,'Courier New',monospace\"><span style=\"font-weight: bold\"> Non-trainable params: </span><span style=\"color: #00af00; text-decoration-color: #00af00\">0</span> (0.00 B)\n",
              "</pre>\n"
            ],
            "text/plain": [
              "\u001b[1m Non-trainable params: \u001b[0m\u001b[38;5;34m0\u001b[0m (0.00 B)\n"
            ]
          },
          "metadata": {},
          "output_type": "display_data"
        }
      ],
      "source": [
        "# PREMIER ESSAI : OBSERVATION\n",
        "\n",
        "def build_model_v1(input_shape=(64, 64, 3)):\n",
        "    model = Sequential([\n",
        "        Input(shape=input_shape),                 # Entrée du réseau (images 64 x 64 en RGB)\n",
        "\n",
        "        Conv2D(16, (3, 3), activation='relu'),    # Convolution: 16 filtres, kernel 3x3, activation ReLU\n",
        "        MaxPooling2D((2, 2)),                     # MaxPooling: réduit la dimension spatiale de moitié (64→32)\n",
        "\n",
        "        Flatten(),                                # Aplatissement pour passer de la partie \"convolutive\" à la partie \"dense\"\n",
        "\n",
        "        Dense(16, activation='relu'),             # Couche fully-connected (dense) avec 16 neurones\n",
        "        Dense(1, activation='sigmoid')            # Couche de sortie: 1 neurone pour la classification binaire (Homme/Femme)\n",
        "    ])\n",
        "\n",
        "    model.compile(\n",
        "        optimizer=Adam(learning_rate=0.001),      # Optimiseur Adam, taux d'apprentissage de 0.001\n",
        "        loss='binary_crossentropy',               # Fonction de perte adaptée à un problème de classification binaire\n",
        "        metrics=['accuracy']                      # Métrique principale: accuracy\n",
        "    )\n",
        "    return model\n",
        "\n",
        "\n",
        "model_v1 = build_model_v1((64, 64, 3))\n",
        "model_v1.summary()\n"
      ]
    },
    {
      "cell_type": "markdown",
      "metadata": {
        "id": "CJCl-OLT74Bl"
      },
      "source": [
        "Le modèle V1 a été conçu avec une architecture volontairement simple, utilisant peu de paramètres, afin de tester si une structure minimale permet déjà d’extraire suffisamment d’informations pour réaliser la classification.\n",
        "\n",
        "1. Choix de la taille des images (64x64x3) :\n",
        "  - Les images ont été réduites à 64x64 pixels avec 3 canaux (RGB).\n",
        "  Une taille plus grande (~128x128 ou 256x256) aurait offert plus de détails, mais l’objectif étant de détecter des caractéristiques globales du visage (formes, structures), une résolution modérée suffit pour un premier test.\n",
        "\n",
        "2. Couche Flatten() :\n",
        "  - Le Flatten est essentiel pour transformer les sorties 2D de la convolution en un vecteur 1D, qui pourra être utilisé par les couches denses suivantes.\n",
        "\n",
        "3. Couche de sortie Dense(1, activation='sigmoid') :\n",
        "  - Un seul neurone en sortie, car il s’agit d’une classification binaire (homme ou femme).\n",
        "  - L’activation sigmoïde  est choisie car elle permet de produire une probabilité entre 0 et 1, ce qui est adapté aux problèmes de classification binaire.\n"
      ]
    },
    {
      "cell_type": "code",
      "execution_count": null,
      "metadata": {
        "colab": {
          "base_uri": "https://localhost:8080/"
        },
        "collapsed": true,
        "id": "LvGPGcXg6xUD",
        "outputId": "fb6cab87-25b7-4993-ebd7-49191f9d61fb"
      },
      "outputs": [
        {
          "name": "stdout",
          "output_type": "stream",
          "text": [
            "Epoch 1/10\n",
            "\u001b[1m475/475\u001b[0m \u001b[32m━━━━━━━━━━━━━━━━━━━━\u001b[0m\u001b[37m\u001b[0m \u001b[1m21s\u001b[0m 41ms/step - accuracy: 0.7249 - loss: 0.5249 - val_accuracy: 0.8653 - val_loss: 0.3415\n",
            "Epoch 2/10\n",
            "\u001b[1m475/475\u001b[0m \u001b[32m━━━━━━━━━━━━━━━━━━━━\u001b[0m\u001b[37m\u001b[0m \u001b[1m20s\u001b[0m 42ms/step - accuracy: 0.8599 - loss: 0.3291 - val_accuracy: 0.8846 - val_loss: 0.2966\n",
            "Epoch 3/10\n",
            "\u001b[1m475/475\u001b[0m \u001b[32m━━━━━━━━━━━━━━━━━━━━\u001b[0m\u001b[37m\u001b[0m \u001b[1m19s\u001b[0m 39ms/step - accuracy: 0.8799 - loss: 0.2867 - val_accuracy: 0.8851 - val_loss: 0.2721\n",
            "Epoch 4/10\n",
            "\u001b[1m475/475\u001b[0m \u001b[32m━━━━━━━━━━━━━━━━━━━━\u001b[0m\u001b[37m\u001b[0m \u001b[1m21s\u001b[0m 39ms/step - accuracy: 0.8858 - loss: 0.2689 - val_accuracy: 0.8856 - val_loss: 0.2709\n",
            "Epoch 5/10\n",
            "\u001b[1m475/475\u001b[0m \u001b[32m━━━━━━━━━━━━━━━━━━━━\u001b[0m\u001b[37m\u001b[0m \u001b[1m21s\u001b[0m 41ms/step - accuracy: 0.8937 - loss: 0.2509 - val_accuracy: 0.8880 - val_loss: 0.2716\n",
            "Epoch 6/10\n",
            "\u001b[1m475/475\u001b[0m \u001b[32m━━━━━━━━━━━━━━━━━━━━\u001b[0m\u001b[37m\u001b[0m \u001b[1m20s\u001b[0m 39ms/step - accuracy: 0.9046 - loss: 0.2336 - val_accuracy: 0.8888 - val_loss: 0.2780\n",
            "Epoch 7/10\n",
            "\u001b[1m475/475\u001b[0m \u001b[32m━━━━━━━━━━━━━━━━━━━━\u001b[0m\u001b[37m\u001b[0m \u001b[1m17s\u001b[0m 36ms/step - accuracy: 0.9060 - loss: 0.2246 - val_accuracy: 0.8914 - val_loss: 0.2656\n",
            "Epoch 8/10\n",
            "\u001b[1m475/475\u001b[0m \u001b[32m━━━━━━━━━━━━━━━━━━━━\u001b[0m\u001b[37m\u001b[0m \u001b[1m23s\u001b[0m 41ms/step - accuracy: 0.9135 - loss: 0.2146 - val_accuracy: 0.8524 - val_loss: 0.3565\n",
            "Epoch 9/10\n",
            "\u001b[1m475/475\u001b[0m \u001b[32m━━━━━━━━━━━━━━━━━━━━\u001b[0m\u001b[37m\u001b[0m \u001b[1m24s\u001b[0m 50ms/step - accuracy: 0.9163 - loss: 0.2107 - val_accuracy: 0.8880 - val_loss: 0.2729\n",
            "Epoch 10/10\n",
            "\u001b[1m475/475\u001b[0m \u001b[32m━━━━━━━━━━━━━━━━━━━━\u001b[0m\u001b[37m\u001b[0m \u001b[1m36s\u001b[0m 41ms/step - accuracy: 0.9272 - loss: 0.1821 - val_accuracy: 0.8896 - val_loss: 0.2761\n"
          ]
        }
      ],
      "source": [
        "history_v1 = model_v1.fit(\n",
        "    X_train, y_train,\n",
        "    validation_data=(X_val, y_val),\n",
        "    epochs=10,\n",
        "    batch_size=32,\n",
        "    verbose=1\n",
        ")"
      ]
    },
    {
      "cell_type": "markdown",
      "metadata": {
        "id": "in-jmVJD6O7E"
      },
      "source": [
        "### Analyse des métriques"
      ]
    },
    {
      "cell_type": "code",
      "execution_count": null,
      "metadata": {
        "colab": {
          "base_uri": "https://localhost:8080/"
        },
        "id": "BuL1PPSt7xNp",
        "outputId": "4e818b04-a698-4d77-ebe9-aa242ec54340"
      },
      "outputs": [
        {
          "name": "stdout",
          "output_type": "stream",
          "text": [
            "[V1] Test accuracy: 0.8764\n",
            "\u001b[1m149/149\u001b[0m \u001b[32m━━━━━━━━━━━━━━━━━━━━\u001b[0m\u001b[37m\u001b[0m \u001b[1m2s\u001b[0m 16ms/step\n",
            "              precision    recall  f1-score   support\n",
            "\n",
            "       Homme       0.86      0.92      0.89      2478\n",
            "       Femme       0.90      0.83      0.87      2264\n",
            "\n",
            "    accuracy                           0.88      4742\n",
            "   macro avg       0.88      0.87      0.88      4742\n",
            "weighted avg       0.88      0.88      0.88      4742\n",
            "\n"
          ]
        }
      ],
      "source": [
        "# Évaluation sur le jeu de test\n",
        "\n",
        "test_loss_v1, test_acc_v1 = model_v1.evaluate(X_test, y_test, verbose=0)\n",
        "print(f\"[V1] Test accuracy: {test_acc_v1:.4f}\")\n",
        "\n",
        "# Prédictions sur le jeu de test\n",
        "y_pred_prob_v1 = model_v1.predict(X_test)\n",
        "y_pred_v1 = (y_pred_prob_v1 > 0.5).astype(\"int32\")\n",
        "\n",
        "# Rapport de classification pour le jeu de test\n",
        "print(classification_report(y_test, y_pred_v1, target_names=[\"Homme\", \"Femme\"]))"
      ]
    },
    {
      "cell_type": "markdown",
      "metadata": {
        "id": "ryCXTsIS_ji8"
      },
      "source": [
        " **Métriques sur le jeu de test :**\n",
        "\n",
        "\n",
        "L’accuracy globale de 87.64 % indique que le modèle fait des prédictions correctes dans la majorité des cas.\n",
        "\n",
        "Le modèle détecte mieux les hommes que les femmes (rappel 0.92 vs 0.83).\n",
        "\n",
        "Cela signifie qu’il a tendance à classer certaines femmes à tort comme des hommes.\n",
        "\n",
        "La précision est légèrement meilleure pour la classe \"Femme\" (0.90 contre 0.86 pour \"Homme\"), ce qui signifie que lorsqu'il prédit \"Femme\", il a généralement raison.\n",
        "\n",
        "\n",
        "L’écart entre le rappel des deux classes montre que le modèle a un biais, possiblement dû à un déséquilibre dans les données ou à une difficulté du modèle à extraire des caractéristiques discriminantes pour la classe \"Femme\"."
      ]
    },
    {
      "cell_type": "code",
      "execution_count": null,
      "metadata": {
        "colab": {
          "base_uri": "https://localhost:8080/"
        },
        "id": "qO3KMv8i-4nU",
        "outputId": "c3a74911-92ec-44d4-a20f-a00912b74204"
      },
      "outputs": [
        {
          "name": "stdout",
          "output_type": "stream",
          "text": [
            "Validation accuracy: 0.8896\n",
            "\u001b[1m119/119\u001b[0m \u001b[32m━━━━━━━━━━━━━━━━━━━━\u001b[0m\u001b[37m\u001b[0m \u001b[1m1s\u001b[0m 12ms/step\n",
            "              precision    recall  f1-score   support\n",
            "\n",
            "       Homme       0.87      0.93      0.90      1983\n",
            "       Femme       0.91      0.85      0.88      1811\n",
            "\n",
            "    accuracy                           0.89      3794\n",
            "   macro avg       0.89      0.89      0.89      3794\n",
            "weighted avg       0.89      0.89      0.89      3794\n",
            "\n"
          ]
        }
      ],
      "source": [
        "# Évaluation sur le jeu de validation\n",
        "test_loss_val, test_acc_val = model_v1.evaluate(X_val, y_val, verbose=0)\n",
        "print(f\"[V1] Validation accuracy: {test_acc_val:.4f}\")\n",
        "\n",
        "# Prédictions sur le jeu de validation\n",
        "y_pred_prob_val = model_v1.predict(X_val)\n",
        "y_pred_val = (y_pred_prob_val > 0.5).astype(\"int32\")\n",
        "\n",
        "# Rapport de classification pour le jeu de validation\n",
        "print(classification_report(y_val, y_pred_val, target_names=[\"Homme\", \"Femme\"]))"
      ]
    },
    {
      "cell_type": "markdown",
      "metadata": {
        "id": "8FAmUXY6Aoa_"
      },
      "source": [
        " **Métriques sur le jeu de validation :**\n",
        "\n",
        "\n",
        "L’accuracy sur la validation (88.96%) est légèrement supérieure à celle du test (87.64%), ce qui peut indiquer que le modèle s’adapte légèrement trop aux données de validation et perd en généralisation.\n",
        "\n",
        "On retrouve le même déséquilibre dans le rappel des classes : le modèle détecte mieux les hommes que les femmes.\n",
        "\n",
        "Le score F1 est équilibré, ce qui indique que les erreurs restent raisonnablement réparties malgré le léger biais observé."
      ]
    },
    {
      "cell_type": "markdown",
      "metadata": {
        "id": "im4cEBHd8ao4"
      },
      "source": [
        "### Visualisations de la courbe de la fonction de perte et de l'accuracy"
      ]
    },
    {
      "cell_type": "markdown",
      "metadata": {
        "id": "6GayFRyRA0w5"
      },
      "source": [
        "Les courbes obtenues après l’entraînement du modèle V1 permettent d’évaluer la progression de l’apprentissage et d’identifier d’éventuels problèmes liés à la convergence du modèle ou à sa capacité de généralisation."
      ]
    },
    {
      "cell_type": "code",
      "execution_count": null,
      "metadata": {
        "colab": {
          "base_uri": "https://localhost:8080/",
          "height": 407
        },
        "id": "vay2vOkpAbOo",
        "outputId": "4c679858-cd7f-4ccb-e2c4-3a51319f6157"
      },
      "outputs": [
        {
          "data": {
            "image/png": "[encoded data removed]",
            "text/plain": [
              "<Figure size 1000x400 with 2 Axes>"
            ]
          },
          "metadata": {},
          "output_type": "display_data"
        }
      ],
      "source": [
        "plt.figure(figsize=(10,4))\n",
        "\n",
        "# Courbe de la fonction de perte (Loss)\n",
        "plt.subplot(1,2,1)\n",
        "plt.plot(history_v1.history['loss'], label='Train Loss')\n",
        "plt.plot(history_v1.history['val_loss'], label='Val Loss')\n",
        "plt.xlabel('Époques')\n",
        "plt.ylabel('Perte (Loss)')\n",
        "plt.legend()\n",
        "plt.title('[V1] Training & Validation Loss')\n",
        "\n",
        "# Courbe de l’Accuracy\n",
        "plt.subplot(1,2,2)\n",
        "plt.plot(history_v1.history['accuracy'], label='Train Accuracy')\n",
        "plt.plot(history_v1.history['val_accuracy'], label='Val Accuracy')\n",
        "plt.xlabel('Époques')\n",
        "plt.ylabel('Accuracy')\n",
        "plt.legend()\n",
        "plt.title('[V1] Training & Validation Accuracy')\n",
        "\n",
        "plt.tight_layout()\n",
        "plt.show()"
      ]
    },
    {
      "cell_type": "markdown",
      "metadata": {
        "id": "i4l9cu18BLzz"
      },
      "source": [
        "- Analyse de la fonction de perte (Loss) :\n",
        "La loss d’entraînement diminue de manière régulière, ce qui montre que le modèle apprend bien sur ses données d’entraînement.\n",
        "La loss de validation suit une tendance générale de diminution mais présente des fluctuations visibles, notamment une remontée après l’époque 5.\n",
        "\n",
        "Cette remontée indique que le modèle commence à sur-apprendre, c'est-à-dire qu'il s’adapte trop aux données d’entraînement et ne généralise plus aussi bien sur des données nouvelles.\n",
        "Vers la fin de l'entraînement, la validation loss ne diminue plus et reste instable, confirmant un début de surapprentissage.\n",
        "\n",
        "- Analyse de la précision (Accuracy) :\n",
        "L’accuracy en entraînement augmente continuellement, atteignant plus de 92 % en fin d'entraînement.\n",
        "L’accuracy en validation suit également une progression, mais elle stagne autour de 88-89 % après plusieurs époques.\n",
        "\n",
        "Un écart se creuse entre les deux courbes, ce qui est un indicateur que le modèle généralise moins bien sur les données de validation.\n",
        "Les fluctuations de la validation accuracy montrent que le modèle ne s'améliore plus après un certain point, renforçant l’hypothèse du surapprentissage.\n",
        "\n",
        "Le modèle est performant sur l'entraînement, mais perd en généralisation après quelques époques.\n",
        "L’instabilité de la validation loss et de la validation accuracy suggère que le modèle pourrait bénéficier de régularisation pour éviter qu’il ne s’adapte trop aux données d’entraînement.\n",
        "La validation accuracy n’évolue plus après un certain point, ce qui signifie qu’un arrêt anticipé (early stopping) pourrait être pertinent pour éviter d’entraîner inutilement le modèle sur des époques supplémentaires.\n"
      ]
    },
    {
      "cell_type": "markdown",
      "metadata": {
        "id": "7h8SA78gCqQe"
      },
      "source": [
        "### Améliorations possibles dans la version suivante  "
      ]
    },
    {
      "cell_type": "markdown",
      "metadata": {
        "id": "hcAYFABWCwZT"
      },
      "source": [
        "De ce fait, nous pourrions améliorer notre modèle en :\n",
        "\n",
        "- Ajoutant plus de couches convolutionnelles pour détecter plujs de motifs.\n",
        "Augmenter le nombre de filtres dans chaque couche pour capturer plus d’informations.\n",
        "\n",
        "- Ajoutant un Dropout dans les couches denses pour éviter que le réseau ne mémorise trop les données d’entraînement.\n",
        "\n",
        "- Utilisant la Batch Normalization, qui stabilise l'apprentissage et limite les fluctuations de la validation loss.\n",
        "\n",
        "- Ajoutant un Early Stopping pour stopper l'entraînement si la validation loss ne s'améliore plus après plusieurs époques.\n",
        "\n",
        "- Réduire le learning rate si nécessaire pour permettre un apprentissage plus progressif et éviter les oscillations de la validation loss.\n",
        "\n",
        "- Appliquant du data augmentation pour générer plus de diversité dans les images et éviter que le modèle ne s’adapte trop fortement aux données d'entraînement."
      ]
    },
    {
      "cell_type": "markdown",
      "metadata": {
        "id": "UK29iAuIhoqO"
      },
      "source": [
        "## II. Second essai : Amélioration du premier modèle"
      ]
    },
    {
      "cell_type": "markdown",
      "metadata": {
        "id": "YntGoOUJZdZh"
      },
      "source": [
        "L'implémentation du modèle V2 repose sur l’analyse des résultats obtenus avec V1."
      ]
    },
    {
      "cell_type": "markdown",
      "metadata": {
        "id": "XddqjED2Foru"
      },
      "source": [
        "### Implémentation 2"
      ]
    },
    {
      "cell_type": "code",
      "execution_count": null,
      "metadata": {
        "colab": {
          "base_uri": "https://localhost:8080/",
          "height": 849
        },
        "id": "dhGgwldShrY3",
        "outputId": "18f4129f-72f9-4086-e06d-f2b9fef2481e"
      },
      "outputs": [
        {
          "data": {
            "text/html": [
              "<pre style=\"white-space:pre;overflow-x:auto;line-height:normal;font-family:Menlo,'DejaVu Sans Mono',consolas,'Courier New',monospace\"><span style=\"font-weight: bold\">Model: \"sequential_4\"</span>\n",
              "</pre>\n"
            ],
            "text/plain": [
              "\u001b[1mModel: \"sequential_4\"\u001b[0m\n"
            ]
          },
          "metadata": {},
          "output_type": "display_data"
        },
        {
          "data": {
            "text/html": [
              "<pre style=\"white-space:pre;overflow-x:auto;line-height:normal;font-family:Menlo,'DejaVu Sans Mono',consolas,'Courier New',monospace\">┏━━━━━━━━━━━━━━━━━━━━━━━━━━━━━━━━━━━━━━┳━━━━━━━━━━━━━━━━━━━━━━━━━━━━━┳━━━━━━━━━━━━━━━━━┓\n",
              "┃<span style=\"font-weight: bold\"> Layer (type)                         </span>┃<span style=\"font-weight: bold\"> Output Shape                </span>┃<span style=\"font-weight: bold\">         Param # </span>┃\n",
              "┡━━━━━━━━━━━━━━━━━━━━━━━━━━━━━━━━━━━━━━╇━━━━━━━━━━━━━━━━━━━━━━━━━━━━━╇━━━━━━━━━━━━━━━━━┩\n",
              "│ random_flip_3 (<span style=\"color: #0087ff; text-decoration-color: #0087ff\">RandomFlip</span>)           │ (<span style=\"color: #00d7ff; text-decoration-color: #00d7ff\">None</span>, <span style=\"color: #00af00; text-decoration-color: #00af00\">64</span>, <span style=\"color: #00af00; text-decoration-color: #00af00\">64</span>, <span style=\"color: #00af00; text-decoration-color: #00af00\">3</span>)           │               <span style=\"color: #00af00; text-decoration-color: #00af00\">0</span> │\n",
              "├──────────────────────────────────────┼─────────────────────────────┼─────────────────┤\n",
              "│ random_rotation_3 (<span style=\"color: #0087ff; text-decoration-color: #0087ff\">RandomRotation</span>)   │ (<span style=\"color: #00d7ff; text-decoration-color: #00d7ff\">None</span>, <span style=\"color: #00af00; text-decoration-color: #00af00\">64</span>, <span style=\"color: #00af00; text-decoration-color: #00af00\">64</span>, <span style=\"color: #00af00; text-decoration-color: #00af00\">3</span>)           │               <span style=\"color: #00af00; text-decoration-color: #00af00\">0</span> │\n",
              "├──────────────────────────────────────┼─────────────────────────────┼─────────────────┤\n",
              "│ random_zoom_3 (<span style=\"color: #0087ff; text-decoration-color: #0087ff\">RandomZoom</span>)           │ (<span style=\"color: #00d7ff; text-decoration-color: #00d7ff\">None</span>, <span style=\"color: #00af00; text-decoration-color: #00af00\">64</span>, <span style=\"color: #00af00; text-decoration-color: #00af00\">64</span>, <span style=\"color: #00af00; text-decoration-color: #00af00\">3</span>)           │               <span style=\"color: #00af00; text-decoration-color: #00af00\">0</span> │\n",
              "├──────────────────────────────────────┼─────────────────────────────┼─────────────────┤\n",
              "│ conv2d_13 (<span style=\"color: #0087ff; text-decoration-color: #0087ff\">Conv2D</span>)                   │ (<span style=\"color: #00d7ff; text-decoration-color: #00d7ff\">None</span>, <span style=\"color: #00af00; text-decoration-color: #00af00\">64</span>, <span style=\"color: #00af00; text-decoration-color: #00af00\">64</span>, <span style=\"color: #00af00; text-decoration-color: #00af00\">16</span>)          │             <span style=\"color: #00af00; text-decoration-color: #00af00\">448</span> │\n",
              "├──────────────────────────────────────┼─────────────────────────────┼─────────────────┤\n",
              "│ batch_normalization_15               │ (<span style=\"color: #00d7ff; text-decoration-color: #00d7ff\">None</span>, <span style=\"color: #00af00; text-decoration-color: #00af00\">64</span>, <span style=\"color: #00af00; text-decoration-color: #00af00\">64</span>, <span style=\"color: #00af00; text-decoration-color: #00af00\">16</span>)          │              <span style=\"color: #00af00; text-decoration-color: #00af00\">64</span> │\n",
              "│ (<span style=\"color: #0087ff; text-decoration-color: #0087ff\">BatchNormalization</span>)                 │                             │                 │\n",
              "├──────────────────────────────────────┼─────────────────────────────┼─────────────────┤\n",
              "│ max_pooling2d_13 (<span style=\"color: #0087ff; text-decoration-color: #0087ff\">MaxPooling2D</span>)      │ (<span style=\"color: #00d7ff; text-decoration-color: #00d7ff\">None</span>, <span style=\"color: #00af00; text-decoration-color: #00af00\">32</span>, <span style=\"color: #00af00; text-decoration-color: #00af00\">32</span>, <span style=\"color: #00af00; text-decoration-color: #00af00\">16</span>)          │               <span style=\"color: #00af00; text-decoration-color: #00af00\">0</span> │\n",
              "├──────────────────────────────────────┼─────────────────────────────┼─────────────────┤\n",
              "│ conv2d_14 (<span style=\"color: #0087ff; text-decoration-color: #0087ff\">Conv2D</span>)                   │ (<span style=\"color: #00d7ff; text-decoration-color: #00d7ff\">None</span>, <span style=\"color: #00af00; text-decoration-color: #00af00\">32</span>, <span style=\"color: #00af00; text-decoration-color: #00af00\">32</span>, <span style=\"color: #00af00; text-decoration-color: #00af00\">32</span>)          │           <span style=\"color: #00af00; text-decoration-color: #00af00\">4,640</span> │\n",
              "├──────────────────────────────────────┼─────────────────────────────┼─────────────────┤\n",
              "│ batch_normalization_16               │ (<span style=\"color: #00d7ff; text-decoration-color: #00d7ff\">None</span>, <span style=\"color: #00af00; text-decoration-color: #00af00\">32</span>, <span style=\"color: #00af00; text-decoration-color: #00af00\">32</span>, <span style=\"color: #00af00; text-decoration-color: #00af00\">32</span>)          │             <span style=\"color: #00af00; text-decoration-color: #00af00\">128</span> │\n",
              "│ (<span style=\"color: #0087ff; text-decoration-color: #0087ff\">BatchNormalization</span>)                 │                             │                 │\n",
              "├──────────────────────────────────────┼─────────────────────────────┼─────────────────┤\n",
              "│ max_pooling2d_14 (<span style=\"color: #0087ff; text-decoration-color: #0087ff\">MaxPooling2D</span>)      │ (<span style=\"color: #00d7ff; text-decoration-color: #00d7ff\">None</span>, <span style=\"color: #00af00; text-decoration-color: #00af00\">16</span>, <span style=\"color: #00af00; text-decoration-color: #00af00\">16</span>, <span style=\"color: #00af00; text-decoration-color: #00af00\">32</span>)          │               <span style=\"color: #00af00; text-decoration-color: #00af00\">0</span> │\n",
              "├──────────────────────────────────────┼─────────────────────────────┼─────────────────┤\n",
              "│ conv2d_15 (<span style=\"color: #0087ff; text-decoration-color: #0087ff\">Conv2D</span>)                   │ (<span style=\"color: #00d7ff; text-decoration-color: #00d7ff\">None</span>, <span style=\"color: #00af00; text-decoration-color: #00af00\">16</span>, <span style=\"color: #00af00; text-decoration-color: #00af00\">16</span>, <span style=\"color: #00af00; text-decoration-color: #00af00\">64</span>)          │          <span style=\"color: #00af00; text-decoration-color: #00af00\">18,496</span> │\n",
              "├──────────────────────────────────────┼─────────────────────────────┼─────────────────┤\n",
              "│ batch_normalization_17               │ (<span style=\"color: #00d7ff; text-decoration-color: #00d7ff\">None</span>, <span style=\"color: #00af00; text-decoration-color: #00af00\">16</span>, <span style=\"color: #00af00; text-decoration-color: #00af00\">16</span>, <span style=\"color: #00af00; text-decoration-color: #00af00\">64</span>)          │             <span style=\"color: #00af00; text-decoration-color: #00af00\">256</span> │\n",
              "│ (<span style=\"color: #0087ff; text-decoration-color: #0087ff\">BatchNormalization</span>)                 │                             │                 │\n",
              "├──────────────────────────────────────┼─────────────────────────────┼─────────────────┤\n",
              "│ max_pooling2d_15 (<span style=\"color: #0087ff; text-decoration-color: #0087ff\">MaxPooling2D</span>)      │ (<span style=\"color: #00d7ff; text-decoration-color: #00d7ff\">None</span>, <span style=\"color: #00af00; text-decoration-color: #00af00\">8</span>, <span style=\"color: #00af00; text-decoration-color: #00af00\">8</span>, <span style=\"color: #00af00; text-decoration-color: #00af00\">64</span>)            │               <span style=\"color: #00af00; text-decoration-color: #00af00\">0</span> │\n",
              "├──────────────────────────────────────┼─────────────────────────────┼─────────────────┤\n",
              "│ conv2d_16 (<span style=\"color: #0087ff; text-decoration-color: #0087ff\">Conv2D</span>)                   │ (<span style=\"color: #00d7ff; text-decoration-color: #00d7ff\">None</span>, <span style=\"color: #00af00; text-decoration-color: #00af00\">8</span>, <span style=\"color: #00af00; text-decoration-color: #00af00\">8</span>, <span style=\"color: #00af00; text-decoration-color: #00af00\">128</span>)           │          <span style=\"color: #00af00; text-decoration-color: #00af00\">73,856</span> │\n",
              "├──────────────────────────────────────┼─────────────────────────────┼─────────────────┤\n",
              "│ batch_normalization_18               │ (<span style=\"color: #00d7ff; text-decoration-color: #00d7ff\">None</span>, <span style=\"color: #00af00; text-decoration-color: #00af00\">8</span>, <span style=\"color: #00af00; text-decoration-color: #00af00\">8</span>, <span style=\"color: #00af00; text-decoration-color: #00af00\">128</span>)           │             <span style=\"color: #00af00; text-decoration-color: #00af00\">512</span> │\n",
              "│ (<span style=\"color: #0087ff; text-decoration-color: #0087ff\">BatchNormalization</span>)                 │                             │                 │\n",
              "├──────────────────────────────────────┼─────────────────────────────┼─────────────────┤\n",
              "│ max_pooling2d_16 (<span style=\"color: #0087ff; text-decoration-color: #0087ff\">MaxPooling2D</span>)      │ (<span style=\"color: #00d7ff; text-decoration-color: #00d7ff\">None</span>, <span style=\"color: #00af00; text-decoration-color: #00af00\">4</span>, <span style=\"color: #00af00; text-decoration-color: #00af00\">4</span>, <span style=\"color: #00af00; text-decoration-color: #00af00\">128</span>)           │               <span style=\"color: #00af00; text-decoration-color: #00af00\">0</span> │\n",
              "├──────────────────────────────────────┼─────────────────────────────┼─────────────────┤\n",
              "│ flatten_4 (<span style=\"color: #0087ff; text-decoration-color: #0087ff\">Flatten</span>)                  │ (<span style=\"color: #00d7ff; text-decoration-color: #00d7ff\">None</span>, <span style=\"color: #00af00; text-decoration-color: #00af00\">2048</span>)                │               <span style=\"color: #00af00; text-decoration-color: #00af00\">0</span> │\n",
              "├──────────────────────────────────────┼─────────────────────────────┼─────────────────┤\n",
              "│ dense_8 (<span style=\"color: #0087ff; text-decoration-color: #0087ff\">Dense</span>)                      │ (<span style=\"color: #00d7ff; text-decoration-color: #00d7ff\">None</span>, <span style=\"color: #00af00; text-decoration-color: #00af00\">128</span>)                 │         <span style=\"color: #00af00; text-decoration-color: #00af00\">262,272</span> │\n",
              "├──────────────────────────────────────┼─────────────────────────────┼─────────────────┤\n",
              "│ batch_normalization_19               │ (<span style=\"color: #00d7ff; text-decoration-color: #00d7ff\">None</span>, <span style=\"color: #00af00; text-decoration-color: #00af00\">128</span>)                 │             <span style=\"color: #00af00; text-decoration-color: #00af00\">512</span> │\n",
              "│ (<span style=\"color: #0087ff; text-decoration-color: #0087ff\">BatchNormalization</span>)                 │                             │                 │\n",
              "├──────────────────────────────────────┼─────────────────────────────┼─────────────────┤\n",
              "│ dropout_3 (<span style=\"color: #0087ff; text-decoration-color: #0087ff\">Dropout</span>)                  │ (<span style=\"color: #00d7ff; text-decoration-color: #00d7ff\">None</span>, <span style=\"color: #00af00; text-decoration-color: #00af00\">128</span>)                 │               <span style=\"color: #00af00; text-decoration-color: #00af00\">0</span> │\n",
              "├──────────────────────────────────────┼─────────────────────────────┼─────────────────┤\n",
              "│ dense_9 (<span style=\"color: #0087ff; text-decoration-color: #0087ff\">Dense</span>)                      │ (<span style=\"color: #00d7ff; text-decoration-color: #00d7ff\">None</span>, <span style=\"color: #00af00; text-decoration-color: #00af00\">1</span>)                   │             <span style=\"color: #00af00; text-decoration-color: #00af00\">129</span> │\n",
              "└──────────────────────────────────────┴─────────────────────────────┴─────────────────┘\n",
              "</pre>\n"
            ],
            "text/plain": [
              "┏━━━━━━━━━━━━━━━━━━━━━━━━━━━━━━━━━━━━━━┳━━━━━━━━━━━━━━━━━━━━━━━━━━━━━┳━━━━━━━━━━━━━━━━━┓\n",
              "┃\u001b[1m \u001b[0m\u001b[1mLayer (type)                        \u001b[0m\u001b[1m \u001b[0m┃\u001b[1m \u001b[0m\u001b[1mOutput Shape               \u001b[0m\u001b[1m \u001b[0m┃\u001b[1m \u001b[0m\u001b[1m        Param #\u001b[0m\u001b[1m \u001b[0m┃\n",
              "┡━━━━━━━━━━━━━━━━━━━━━━━━━━━━━━━━━━━━━━╇━━━━━━━━━━━━━━━━━━━━━━━━━━━━━╇━━━━━━━━━━━━━━━━━┩\n",
              "│ random_flip_3 (\u001b[38;5;33mRandomFlip\u001b[0m)           │ (\u001b[38;5;45mNone\u001b[0m, \u001b[38;5;34m64\u001b[0m, \u001b[38;5;34m64\u001b[0m, \u001b[38;5;34m3\u001b[0m)           │               \u001b[38;5;34m0\u001b[0m │\n",
              "├──────────────────────────────────────┼─────────────────────────────┼─────────────────┤\n",
              "│ random_rotation_3 (\u001b[38;5;33mRandomRotation\u001b[0m)   │ (\u001b[38;5;45mNone\u001b[0m, \u001b[38;5;34m64\u001b[0m, \u001b[38;5;34m64\u001b[0m, \u001b[38;5;34m3\u001b[0m)           │               \u001b[38;5;34m0\u001b[0m │\n",
              "├──────────────────────────────────────┼─────────────────────────────┼─────────────────┤\n",
              "│ random_zoom_3 (\u001b[38;5;33mRandomZoom\u001b[0m)           │ (\u001b[38;5;45mNone\u001b[0m, \u001b[38;5;34m64\u001b[0m, \u001b[38;5;34m64\u001b[0m, \u001b[38;5;34m3\u001b[0m)           │               \u001b[38;5;34m0\u001b[0m │\n",
              "├──────────────────────────────────────┼─────────────────────────────┼─────────────────┤\n",
              "│ conv2d_13 (\u001b[38;5;33mConv2D\u001b[0m)                   │ (\u001b[38;5;45mNone\u001b[0m, \u001b[38;5;34m64\u001b[0m, \u001b[38;5;34m64\u001b[0m, \u001b[38;5;34m16\u001b[0m)          │             \u001b[38;5;34m448\u001b[0m │\n",
              "├──────────────────────────────────────┼─────────────────────────────┼─────────────────┤\n",
              "│ batch_normalization_15               │ (\u001b[38;5;45mNone\u001b[0m, \u001b[38;5;34m64\u001b[0m, \u001b[38;5;34m64\u001b[0m, \u001b[38;5;34m16\u001b[0m)          │              \u001b[38;5;34m64\u001b[0m │\n",
              "│ (\u001b[38;5;33mBatchNormalization\u001b[0m)                 │                             │                 │\n",
              "├──────────────────────────────────────┼─────────────────────────────┼─────────────────┤\n",
              "│ max_pooling2d_13 (\u001b[38;5;33mMaxPooling2D\u001b[0m)      │ (\u001b[38;5;45mNone\u001b[0m, \u001b[38;5;34m32\u001b[0m, \u001b[38;5;34m32\u001b[0m, \u001b[38;5;34m16\u001b[0m)          │               \u001b[38;5;34m0\u001b[0m │\n",
              "├──────────────────────────────────────┼─────────────────────────────┼─────────────────┤\n",
              "│ conv2d_14 (\u001b[38;5;33mConv2D\u001b[0m)                   │ (\u001b[38;5;45mNone\u001b[0m, \u001b[38;5;34m32\u001b[0m, \u001b[38;5;34m32\u001b[0m, \u001b[38;5;34m32\u001b[0m)          │           \u001b[38;5;34m4,640\u001b[0m │\n",
              "├──────────────────────────────────────┼─────────────────────────────┼─────────────────┤\n",
              "│ batch_normalization_16               │ (\u001b[38;5;45mNone\u001b[0m, \u001b[38;5;34m32\u001b[0m, \u001b[38;5;34m32\u001b[0m, \u001b[38;5;34m32\u001b[0m)          │             \u001b[38;5;34m128\u001b[0m │\n",
              "│ (\u001b[38;5;33mBatchNormalization\u001b[0m)                 │                             │                 │\n",
              "├──────────────────────────────────────┼─────────────────────────────┼─────────────────┤\n",
              "│ max_pooling2d_14 (\u001b[38;5;33mMaxPooling2D\u001b[0m)      │ (\u001b[38;5;45mNone\u001b[0m, \u001b[38;5;34m16\u001b[0m, \u001b[38;5;34m16\u001b[0m, \u001b[38;5;34m32\u001b[0m)          │               \u001b[38;5;34m0\u001b[0m │\n",
              "├──────────────────────────────────────┼─────────────────────────────┼─────────────────┤\n",
              "│ conv2d_15 (\u001b[38;5;33mConv2D\u001b[0m)                   │ (\u001b[38;5;45mNone\u001b[0m, \u001b[38;5;34m16\u001b[0m, \u001b[38;5;34m16\u001b[0m, \u001b[38;5;34m64\u001b[0m)          │          \u001b[38;5;34m18,496\u001b[0m │\n",
              "├──────────────────────────────────────┼─────────────────────────────┼─────────────────┤\n",
              "│ batch_normalization_17               │ (\u001b[38;5;45mNone\u001b[0m, \u001b[38;5;34m16\u001b[0m, \u001b[38;5;34m16\u001b[0m, \u001b[38;5;34m64\u001b[0m)          │             \u001b[38;5;34m256\u001b[0m │\n",
              "│ (\u001b[38;5;33mBatchNormalization\u001b[0m)                 │                             │                 │\n",
              "├──────────────────────────────────────┼─────────────────────────────┼─────────────────┤\n",
              "│ max_pooling2d_15 (\u001b[38;5;33mMaxPooling2D\u001b[0m)      │ (\u001b[38;5;45mNone\u001b[0m, \u001b[38;5;34m8\u001b[0m, \u001b[38;5;34m8\u001b[0m, \u001b[38;5;34m64\u001b[0m)            │               \u001b[38;5;34m0\u001b[0m │\n",
              "├──────────────────────────────────────┼─────────────────────────────┼─────────────────┤\n",
              "│ conv2d_16 (\u001b[38;5;33mConv2D\u001b[0m)                   │ (\u001b[38;5;45mNone\u001b[0m, \u001b[38;5;34m8\u001b[0m, \u001b[38;5;34m8\u001b[0m, \u001b[38;5;34m128\u001b[0m)           │          \u001b[38;5;34m73,856\u001b[0m │\n",
              "├──────────────────────────────────────┼─────────────────────────────┼─────────────────┤\n",
              "│ batch_normalization_18               │ (\u001b[38;5;45mNone\u001b[0m, \u001b[38;5;34m8\u001b[0m, \u001b[38;5;34m8\u001b[0m, \u001b[38;5;34m128\u001b[0m)           │             \u001b[38;5;34m512\u001b[0m │\n",
              "│ (\u001b[38;5;33mBatchNormalization\u001b[0m)                 │                             │                 │\n",
              "├──────────────────────────────────────┼─────────────────────────────┼─────────────────┤\n",
              "│ max_pooling2d_16 (\u001b[38;5;33mMaxPooling2D\u001b[0m)      │ (\u001b[38;5;45mNone\u001b[0m, \u001b[38;5;34m4\u001b[0m, \u001b[38;5;34m4\u001b[0m, \u001b[38;5;34m128\u001b[0m)           │               \u001b[38;5;34m0\u001b[0m │\n",
              "├──────────────────────────────────────┼─────────────────────────────┼─────────────────┤\n",
              "│ flatten_4 (\u001b[38;5;33mFlatten\u001b[0m)                  │ (\u001b[38;5;45mNone\u001b[0m, \u001b[38;5;34m2048\u001b[0m)                │               \u001b[38;5;34m0\u001b[0m │\n",
              "├──────────────────────────────────────┼─────────────────────────────┼─────────────────┤\n",
              "│ dense_8 (\u001b[38;5;33mDense\u001b[0m)                      │ (\u001b[38;5;45mNone\u001b[0m, \u001b[38;5;34m128\u001b[0m)                 │         \u001b[38;5;34m262,272\u001b[0m │\n",
              "├──────────────────────────────────────┼─────────────────────────────┼─────────────────┤\n",
              "│ batch_normalization_19               │ (\u001b[38;5;45mNone\u001b[0m, \u001b[38;5;34m128\u001b[0m)                 │             \u001b[38;5;34m512\u001b[0m │\n",
              "│ (\u001b[38;5;33mBatchNormalization\u001b[0m)                 │                             │                 │\n",
              "├──────────────────────────────────────┼─────────────────────────────┼─────────────────┤\n",
              "│ dropout_3 (\u001b[38;5;33mDropout\u001b[0m)                  │ (\u001b[38;5;45mNone\u001b[0m, \u001b[38;5;34m128\u001b[0m)                 │               \u001b[38;5;34m0\u001b[0m │\n",
              "├──────────────────────────────────────┼─────────────────────────────┼─────────────────┤\n",
              "│ dense_9 (\u001b[38;5;33mDense\u001b[0m)                      │ (\u001b[38;5;45mNone\u001b[0m, \u001b[38;5;34m1\u001b[0m)                   │             \u001b[38;5;34m129\u001b[0m │\n",
              "└──────────────────────────────────────┴─────────────────────────────┴─────────────────┘\n"
            ]
          },
          "metadata": {},
          "output_type": "display_data"
        },
        {
          "data": {
            "text/html": [
              "<pre style=\"white-space:pre;overflow-x:auto;line-height:normal;font-family:Menlo,'DejaVu Sans Mono',consolas,'Courier New',monospace\"><span style=\"font-weight: bold\"> Total params: </span><span style=\"color: #00af00; text-decoration-color: #00af00\">361,313</span> (1.38 MB)\n",
              "</pre>\n"
            ],
            "text/plain": [
              "\u001b[1m Total params: \u001b[0m\u001b[38;5;34m361,313\u001b[0m (1.38 MB)\n"
            ]
          },
          "metadata": {},
          "output_type": "display_data"
        },
        {
          "data": {
            "text/html": [
              "<pre style=\"white-space:pre;overflow-x:auto;line-height:normal;font-family:Menlo,'DejaVu Sans Mono',consolas,'Courier New',monospace\"><span style=\"font-weight: bold\"> Trainable params: </span><span style=\"color: #00af00; text-decoration-color: #00af00\">360,577</span> (1.38 MB)\n",
              "</pre>\n"
            ],
            "text/plain": [
              "\u001b[1m Trainable params: \u001b[0m\u001b[38;5;34m360,577\u001b[0m (1.38 MB)\n"
            ]
          },
          "metadata": {},
          "output_type": "display_data"
        },
        {
          "data": {
            "text/html": [
              "<pre style=\"white-space:pre;overflow-x:auto;line-height:normal;font-family:Menlo,'DejaVu Sans Mono',consolas,'Courier New',monospace\"><span style=\"font-weight: bold\"> Non-trainable params: </span><span style=\"color: #00af00; text-decoration-color: #00af00\">736</span> (2.88 KB)\n",
              "</pre>\n"
            ],
            "text/plain": [
              "\u001b[1m Non-trainable params: \u001b[0m\u001b[38;5;34m736\u001b[0m (2.88 KB)\n"
            ]
          },
          "metadata": {},
          "output_type": "display_data"
        }
      ],
      "source": [
        "# Définition du modèle\n",
        "def build_model_v2(input_shape=(64, 64, 3)):\n",
        "    model = Sequential([\n",
        "        # Data Augmentation\n",
        "        Input(shape=input_shape),\n",
        "        RandomFlip(\"horizontal\"),\n",
        "        RandomRotation(0.1),\n",
        "        RandomZoom(0.1),\n",
        "\n",
        "        # Bloc 1\n",
        "        Conv2D(16, (3, 3), activation='relu', padding='same'),\n",
        "        BatchNormalization(),\n",
        "        MaxPooling2D((2, 2)),\n",
        "\n",
        "        # Bloc 2\n",
        "        Conv2D(32, (3, 3), activation='relu', padding='same'),\n",
        "        BatchNormalization(),\n",
        "        MaxPooling2D((2, 2)),\n",
        "\n",
        "        # Bloc 3\n",
        "        Conv2D(64, (3, 3), activation='relu', padding='same'),\n",
        "        BatchNormalization(),\n",
        "        MaxPooling2D((2, 2)),\n",
        "\n",
        "        # Bloc 4\n",
        "        Conv2D(128, (3, 3), activation='relu', padding='same'),\n",
        "        BatchNormalization(),\n",
        "        MaxPooling2D((2, 2)),\n",
        "\n",
        "        Flatten(),\n",
        "\n",
        "        # Couche Dense + Dropout\n",
        "        Dense(128, activation='relu'),\n",
        "        BatchNormalization(),\n",
        "        Dropout(0.4),\n",
        "\n",
        "        # Sortie binaire (Homme/Femme)\n",
        "        Dense(1, activation='sigmoid')\n",
        "    ])\n",
        "\n",
        "    # Compilation\n",
        "    model.compile(\n",
        "        optimizer=Adam(learning_rate=0.001),  # LR initial\n",
        "        loss='binary_crossentropy',\n",
        "        metrics=['accuracy']\n",
        "    )\n",
        "    return model\n",
        "\n",
        "\n",
        "model_v2 = build_model_v2((64, 64, 3))\n",
        "model_v2.summary()\n"
      ]
    },
    {
      "cell_type": "markdown",
      "metadata": {
        "id": "6m3ooAkbZpcm"
      },
      "source": [
        "- Contrairement à V1, V2 introduit une phase de prétraitement des images directement dans le modèle avec des transformations aléatoires :\n",
        "  - RandomFlip(\"horizontal\") : Simule des variations en retournant aléatoirement les images.\n",
        "  - RandomRotation(0.1) : Permet de simuler des légères rotations des visages.\n",
        "  - RandomZoom(0.1) : Introduit des zooms aléatoires.\n",
        "\n",
        "- Le modèle V2 introduit plus de couches convolutives et plus de filtres que le modèle V1 :\n",
        "  - V1 utilisait une seule couche de convolution avec 16 filtres.\n",
        "  - V2 applique quatre blocs convolutifs successifs, avec un nombre croissant de filtres (16 → 32 → 64 → 128).\n",
        "\n",
        "- Chaque bloc convolutionnel est maintenant suivi d’une normalisation de batch, ce qui :\n",
        "  - Stabilise l’apprentissage\n",
        "  - Accélère la convergence et permet d’utiliser un taux d’apprentissage plus élevé sans risque d’explosions de gradient.\n",
        "\n",
        "- Renforcement de la régularisation avec Dropout (Dropout(0.4)) :\n",
        "  - Contrairement à V1, V2 inclut une couche de Dropout après la couche dense pour éviter que le modèle ne mémorise trop les données d'entraînement.\n",
        "  \n",
        "  0.4 signifie que 40 % des neurones sont désactivés aléatoirement à chaque passage, renforçant ainsi la généralisation du modèle.\n",
        "\n",
        "- Augmentation du nombre de neurones dans la couche dense (128)"
      ]
    },
    {
      "cell_type": "code",
      "execution_count": null,
      "metadata": {
        "colab": {
          "base_uri": "https://localhost:8080/"
        },
        "collapsed": true,
        "id": "thgT4OxPFBsc",
        "outputId": "82519a74-89e7-4292-c91a-1c5a64febfae"
      },
      "outputs": [
        {
          "name": "stdout",
          "output_type": "stream",
          "text": [
            "Epoch 1/50\n",
            "\u001b[1m475/475\u001b[0m \u001b[32m━━━━━━━━━━━━━━━━━━━━\u001b[0m\u001b[37m\u001b[0m \u001b[1m74s\u001b[0m 148ms/step - accuracy: 0.6921 - loss: 0.6470 - val_accuracy: 0.6447 - val_loss: 0.6273 - learning_rate: 0.0010\n",
            "Epoch 2/50\n",
            "\u001b[1m475/475\u001b[0m \u001b[32m━━━━━━━━━━━━━━━━━━━━\u001b[0m\u001b[37m\u001b[0m \u001b[1m69s\u001b[0m 146ms/step - accuracy: 0.8066 - loss: 0.4223 - val_accuracy: 0.8179 - val_loss: 0.4219 - learning_rate: 0.0010\n",
            "Epoch 3/50\n",
            "\u001b[1m475/475\u001b[0m \u001b[32m━━━━━━━━━━━━━━━━━━━━\u001b[0m\u001b[37m\u001b[0m \u001b[1m82s\u001b[0m 145ms/step - accuracy: 0.8320 - loss: 0.3718 - val_accuracy: 0.8759 - val_loss: 0.2910 - learning_rate: 0.0010\n",
            "Epoch 4/50\n",
            "\u001b[1m475/475\u001b[0m \u001b[32m━━━━━━━━━━━━━━━━━━━━\u001b[0m\u001b[37m\u001b[0m \u001b[1m79s\u001b[0m 140ms/step - accuracy: 0.8534 - loss: 0.3297 - val_accuracy: 0.8300 - val_loss: 0.3705 - learning_rate: 0.0010\n",
            "Epoch 5/50\n",
            "\u001b[1m475/475\u001b[0m \u001b[32m━━━━━━━━━━━━━━━━━━━━\u001b[0m\u001b[37m\u001b[0m \u001b[1m83s\u001b[0m 143ms/step - accuracy: 0.8611 - loss: 0.3148 - val_accuracy: 0.8824 - val_loss: 0.2767 - learning_rate: 0.0010\n",
            "Epoch 6/50\n",
            "\u001b[1m475/475\u001b[0m \u001b[32m━━━━━━━━━━━━━━━━━━━━\u001b[0m\u001b[37m\u001b[0m \u001b[1m82s\u001b[0m 144ms/step - accuracy: 0.8540 - loss: 0.3196 - val_accuracy: 0.8875 - val_loss: 0.2668 - learning_rate: 0.0010\n",
            "Epoch 7/50\n",
            "\u001b[1m475/475\u001b[0m \u001b[32m━━━━━━━━━━━━━━━━━━━━\u001b[0m\u001b[37m\u001b[0m \u001b[1m81s\u001b[0m 143ms/step - accuracy: 0.8707 - loss: 0.3001 - val_accuracy: 0.8471 - val_loss: 0.3299 - learning_rate: 0.0010\n",
            "Epoch 8/50\n",
            "\u001b[1m475/475\u001b[0m \u001b[32m━━━━━━━━━━━━━━━━━━━━\u001b[0m\u001b[37m\u001b[0m \u001b[1m67s\u001b[0m 142ms/step - accuracy: 0.8665 - loss: 0.3007 - val_accuracy: 0.8975 - val_loss: 0.2492 - learning_rate: 0.0010\n",
            "Epoch 9/50\n",
            "\u001b[1m475/475\u001b[0m \u001b[32m━━━━━━━━━━━━━━━━━━━━\u001b[0m\u001b[37m\u001b[0m \u001b[1m68s\u001b[0m 143ms/step - accuracy: 0.8776 - loss: 0.2777 - val_accuracy: 0.8835 - val_loss: 0.2882 - learning_rate: 0.0010\n",
            "Epoch 10/50\n",
            "\u001b[1m475/475\u001b[0m \u001b[32m━━━━━━━━━━━━━━━━━━━━\u001b[0m\u001b[37m\u001b[0m \u001b[1m69s\u001b[0m 145ms/step - accuracy: 0.8741 - loss: 0.2837 - val_accuracy: 0.8777 - val_loss: 0.2787 - learning_rate: 0.0010\n",
            "Epoch 11/50\n",
            "\u001b[1m475/475\u001b[0m \u001b[32m━━━━━━━━━━━━━━━━━━━━\u001b[0m\u001b[37m\u001b[0m \u001b[1m80s\u001b[0m 141ms/step - accuracy: 0.8856 - loss: 0.2726 - val_accuracy: 0.8880 - val_loss: 0.2588 - learning_rate: 0.0010\n",
            "Epoch 12/50\n",
            "\u001b[1m475/475\u001b[0m \u001b[32m━━━━━━━━━━━━━━━━━━━━\u001b[0m\u001b[37m\u001b[0m \u001b[1m82s\u001b[0m 141ms/step - accuracy: 0.8903 - loss: 0.2586 - val_accuracy: 0.9014 - val_loss: 0.2224 - learning_rate: 5.0000e-04\n",
            "Epoch 13/50\n",
            "\u001b[1m475/475\u001b[0m \u001b[32m━━━━━━━━━━━━━━━━━━━━\u001b[0m\u001b[37m\u001b[0m \u001b[1m81s\u001b[0m 140ms/step - accuracy: 0.8950 - loss: 0.2468 - val_accuracy: 0.9012 - val_loss: 0.2277 - learning_rate: 5.0000e-04\n",
            "Epoch 14/50\n",
            "\u001b[1m475/475\u001b[0m \u001b[32m━━━━━━━━━━━━━━━━━━━━\u001b[0m\u001b[37m\u001b[0m \u001b[1m69s\u001b[0m 145ms/step - accuracy: 0.8985 - loss: 0.2384 - val_accuracy: 0.8991 - val_loss: 0.2317 - learning_rate: 5.0000e-04\n",
            "Epoch 15/50\n",
            "\u001b[1m475/475\u001b[0m \u001b[32m━━━━━━━━━━━━━━━━━━━━\u001b[0m\u001b[37m\u001b[0m \u001b[1m81s\u001b[0m 143ms/step - accuracy: 0.9019 - loss: 0.2324 - val_accuracy: 0.9041 - val_loss: 0.2263 - learning_rate: 5.0000e-04\n",
            "Epoch 16/50\n",
            "\u001b[1m475/475\u001b[0m \u001b[32m━━━━━━━━━━━━━━━━━━━━\u001b[0m\u001b[37m\u001b[0m \u001b[1m83s\u001b[0m 145ms/step - accuracy: 0.9023 - loss: 0.2272 - val_accuracy: 0.9117 - val_loss: 0.2209 - learning_rate: 2.5000e-04\n",
            "Epoch 17/50\n",
            "\u001b[1m475/475\u001b[0m \u001b[32m━━━━━━━━━━━━━━━━━━━━\u001b[0m\u001b[37m\u001b[0m \u001b[1m82s\u001b[0m 145ms/step - accuracy: 0.9068 - loss: 0.2169 - val_accuracy: 0.9083 - val_loss: 0.2256 - learning_rate: 2.5000e-04\n",
            "Epoch 18/50\n",
            "\u001b[1m475/475\u001b[0m \u001b[32m━━━━━━━━━━━━━━━━━━━━\u001b[0m\u001b[37m\u001b[0m \u001b[1m80s\u001b[0m 141ms/step - accuracy: 0.9094 - loss: 0.2155 - val_accuracy: 0.9096 - val_loss: 0.2169 - learning_rate: 2.5000e-04\n",
            "Epoch 19/50\n",
            "\u001b[1m475/475\u001b[0m \u001b[32m━━━━━━━━━━━━━━━━━━━━\u001b[0m\u001b[37m\u001b[0m \u001b[1m85s\u001b[0m 147ms/step - accuracy: 0.9053 - loss: 0.2270 - val_accuracy: 0.9075 - val_loss: 0.2197 - learning_rate: 2.5000e-04\n",
            "Epoch 20/50\n",
            "\u001b[1m475/475\u001b[0m \u001b[32m━━━━━━━━━━━━━━━━━━━━\u001b[0m\u001b[37m\u001b[0m \u001b[1m69s\u001b[0m 146ms/step - accuracy: 0.9051 - loss: 0.2283 - val_accuracy: 0.9128 - val_loss: 0.2144 - learning_rate: 2.5000e-04\n",
            "Epoch 21/50\n",
            "\u001b[1m475/475\u001b[0m \u001b[32m━━━━━━━━━━━━━━━━━━━━\u001b[0m\u001b[37m\u001b[0m \u001b[1m82s\u001b[0m 146ms/step - accuracy: 0.9083 - loss: 0.2179 - val_accuracy: 0.9112 - val_loss: 0.2165 - learning_rate: 2.5000e-04\n",
            "Epoch 22/50\n",
            "\u001b[1m475/475\u001b[0m \u001b[32m━━━━━━━━━━━━━━━━━━━━\u001b[0m\u001b[37m\u001b[0m \u001b[1m69s\u001b[0m 145ms/step - accuracy: 0.9134 - loss: 0.2113 - val_accuracy: 0.9101 - val_loss: 0.2164 - learning_rate: 2.5000e-04\n",
            "Epoch 23/50\n",
            "\u001b[1m475/475\u001b[0m \u001b[32m━━━━━━━━━━━━━━━━━━━━\u001b[0m\u001b[37m\u001b[0m \u001b[1m82s\u001b[0m 145ms/step - accuracy: 0.9164 - loss: 0.2102 - val_accuracy: 0.9125 - val_loss: 0.2192 - learning_rate: 2.5000e-04\n",
            "Epoch 24/50\n",
            "\u001b[1m475/475\u001b[0m \u001b[32m━━━━━━━━━━━━━━━━━━━━\u001b[0m\u001b[37m\u001b[0m \u001b[1m82s\u001b[0m 145ms/step - accuracy: 0.9115 - loss: 0.2139 - val_accuracy: 0.9122 - val_loss: 0.2134 - learning_rate: 1.2500e-04\n",
            "Epoch 25/50\n",
            "\u001b[1m475/475\u001b[0m \u001b[32m━━━━━━━━━━━━━━━━━━━━\u001b[0m\u001b[37m\u001b[0m \u001b[1m80s\u001b[0m 141ms/step - accuracy: 0.9202 - loss: 0.1949 - val_accuracy: 0.9104 - val_loss: 0.2139 - learning_rate: 1.2500e-04\n",
            "Epoch 26/50\n",
            "\u001b[1m475/475\u001b[0m \u001b[32m━━━━━━━━━━━━━━━━━━━━\u001b[0m\u001b[37m\u001b[0m \u001b[1m68s\u001b[0m 142ms/step - accuracy: 0.9165 - loss: 0.2004 - val_accuracy: 0.9114 - val_loss: 0.2139 - learning_rate: 1.2500e-04\n",
            "Epoch 27/50\n",
            "\u001b[1m475/475\u001b[0m \u001b[32m━━━━━━━━━━━━━━━━━━━━\u001b[0m\u001b[37m\u001b[0m \u001b[1m67s\u001b[0m 140ms/step - accuracy: 0.9159 - loss: 0.1992 - val_accuracy: 0.9046 - val_loss: 0.2250 - learning_rate: 1.2500e-04\n",
            "Epoch 28/50\n",
            "\u001b[1m475/475\u001b[0m \u001b[32m━━━━━━━━━━━━━━━━━━━━\u001b[0m\u001b[37m\u001b[0m \u001b[1m84s\u001b[0m 145ms/step - accuracy: 0.9220 - loss: 0.1946 - val_accuracy: 0.9114 - val_loss: 0.2116 - learning_rate: 6.2500e-05\n",
            "Epoch 29/50\n",
            "\u001b[1m475/475\u001b[0m \u001b[32m━━━━━━━━━━━━━━━━━━━━\u001b[0m\u001b[37m\u001b[0m \u001b[1m80s\u001b[0m 141ms/step - accuracy: 0.9207 - loss: 0.1943 - val_accuracy: 0.9083 - val_loss: 0.2126 - learning_rate: 6.2500e-05\n",
            "Epoch 30/50\n",
            "\u001b[1m475/475\u001b[0m \u001b[32m━━━━━━━━━━━━━━━━━━━━\u001b[0m\u001b[37m\u001b[0m \u001b[1m68s\u001b[0m 144ms/step - accuracy: 0.9232 - loss: 0.1879 - val_accuracy: 0.9117 - val_loss: 0.2126 - learning_rate: 6.2500e-05\n",
            "Epoch 31/50\n",
            "\u001b[1m475/475\u001b[0m \u001b[32m━━━━━━━━━━━━━━━━━━━━\u001b[0m\u001b[37m\u001b[0m \u001b[1m82s\u001b[0m 144ms/step - accuracy: 0.9202 - loss: 0.1917 - val_accuracy: 0.9125 - val_loss: 0.2109 - learning_rate: 6.2500e-05\n",
            "Epoch 32/50\n",
            "\u001b[1m475/475\u001b[0m \u001b[32m━━━━━━━━━━━━━━━━━━━━\u001b[0m\u001b[37m\u001b[0m \u001b[1m67s\u001b[0m 142ms/step - accuracy: 0.9208 - loss: 0.1869 - val_accuracy: 0.9154 - val_loss: 0.2114 - learning_rate: 6.2500e-05\n",
            "Epoch 33/50\n",
            "\u001b[1m475/475\u001b[0m \u001b[32m━━━━━━━━━━━━━━━━━━━━\u001b[0m\u001b[37m\u001b[0m \u001b[1m83s\u001b[0m 144ms/step - accuracy: 0.9230 - loss: 0.1905 - val_accuracy: 0.9128 - val_loss: 0.2124 - learning_rate: 6.2500e-05\n",
            "Epoch 34/50\n",
            "\u001b[1m475/475\u001b[0m \u001b[32m━━━━━━━━━━━━━━━━━━━━\u001b[0m\u001b[37m\u001b[0m \u001b[1m69s\u001b[0m 145ms/step - accuracy: 0.9273 - loss: 0.1800 - val_accuracy: 0.9104 - val_loss: 0.2135 - learning_rate: 6.2500e-05\n",
            "Epoch 35/50\n",
            "\u001b[1m475/475\u001b[0m \u001b[32m━━━━━━━━━━━━━━━━━━━━\u001b[0m\u001b[37m\u001b[0m \u001b[1m82s\u001b[0m 145ms/step - accuracy: 0.9223 - loss: 0.1930 - val_accuracy: 0.9141 - val_loss: 0.2118 - learning_rate: 3.1250e-05\n",
            "Epoch 36/50\n",
            "\u001b[1m475/475\u001b[0m \u001b[32m━━━━━━━━━━━━━━━━━━━━\u001b[0m\u001b[37m\u001b[0m \u001b[1m81s\u001b[0m 145ms/step - accuracy: 0.9241 - loss: 0.1843 - val_accuracy: 0.9130 - val_loss: 0.2121 - learning_rate: 3.1250e-05\n",
            "Epoch 37/50\n",
            "\u001b[1m475/475\u001b[0m \u001b[32m━━━━━━━━━━━━━━━━━━━━\u001b[0m\u001b[37m\u001b[0m \u001b[1m69s\u001b[0m 146ms/step - accuracy: 0.9208 - loss: 0.1946 - val_accuracy: 0.9104 - val_loss: 0.2152 - learning_rate: 3.1250e-05\n",
            "Epoch 38/50\n",
            "\u001b[1m475/475\u001b[0m \u001b[32m━━━━━━━━━━━━━━━━━━━━\u001b[0m\u001b[37m\u001b[0m \u001b[1m83s\u001b[0m 148ms/step - accuracy: 0.9259 - loss: 0.1824 - val_accuracy: 0.9117 - val_loss: 0.2132 - learning_rate: 1.5625e-05\n",
            "Epoch 39/50\n",
            "\u001b[1m475/475\u001b[0m \u001b[32m━━━━━━━━━━━━━━━━━━━━\u001b[0m\u001b[37m\u001b[0m \u001b[1m80s\u001b[0m 143ms/step - accuracy: 0.9248 - loss: 0.1798 - val_accuracy: 0.9101 - val_loss: 0.2131 - learning_rate: 1.5625e-05\n"
          ]
        }
      ],
      "source": [
        "# Callbacks: EarlyStopping + ReduceLROnPlateau\n",
        "\n",
        "early_stopping = EarlyStopping(\n",
        "    monitor='val_loss',\n",
        "    patience=8,\n",
        "    restore_best_weights=True\n",
        ")\n",
        "\n",
        "reduce_lr = ReduceLROnPlateau(\n",
        "    monitor='val_loss',  # Surveille la val_loss\n",
        "    factor=0.5,          # Divise le LR par 2\n",
        "    patience=3,          # Après 3 époques sans amélioration\n",
        "    min_lr=1e-5          # LR plancher\n",
        ")\n",
        "\n",
        "\n",
        "history_v2 = model_v2.fit(\n",
        "    X_train, y_train,\n",
        "    validation_data=(X_val, y_val),\n",
        "    epochs=50,          # Nombre max d'époques\n",
        "    batch_size=32,\n",
        "    verbose=1,\n",
        "    callbacks=[early_stopping, reduce_lr]\n",
        ")"
      ]
    },
    {
      "cell_type": "markdown",
      "metadata": {
        "id": "nJD1YwCJFs08"
      },
      "source": [
        "### Analyse des métriques"
      ]
    },
    {
      "cell_type": "code",
      "execution_count": null,
      "metadata": {
        "colab": {
          "base_uri": "https://localhost:8080/"
        },
        "id": "HV0pLdYdGSpR",
        "outputId": "0b87b847-8321-439a-bcf6-0b52d313b1fa"
      },
      "outputs": [
        {
          "name": "stdout",
          "output_type": "stream",
          "text": [
            "[V2] Test accuracy: 0.9142\n",
            "\u001b[1m149/149\u001b[0m \u001b[32m━━━━━━━━━━━━━━━━━━━━\u001b[0m\u001b[37m\u001b[0m \u001b[1m5s\u001b[0m 33ms/step\n",
            "              precision    recall  f1-score   support\n",
            "\n",
            "       Homme       0.92      0.92      0.92      2478\n",
            "       Femme       0.91      0.91      0.91      2264\n",
            "\n",
            "    accuracy                           0.91      4742\n",
            "   macro avg       0.91      0.91      0.91      4742\n",
            "weighted avg       0.91      0.91      0.91      4742\n",
            "\n"
          ]
        }
      ],
      "source": [
        "# Évaluation sur le jeu de test\n",
        "test_loss_v2, test_acc_v2 = model_v2.evaluate(X_test, y_test, verbose=0)\n",
        "print(f\"[V2] Test accuracy: {test_acc_v2:.4f}\")\n",
        "\n",
        "# Prédictions sur le jeu de test\n",
        "y_pred_prob_v2 = model_v2.predict(X_test)\n",
        "y_pred_v2 = (y_pred_prob_v2 > 0.5).astype(\"int32\")\n",
        "\n",
        "# Rapport de classification pour le jeu de test\n",
        "print(classification_report(y_test, y_pred_v2, target_names=[\"Homme\", \"Femme\"]))"
      ]
    },
    {
      "cell_type": "markdown",
      "metadata": {
        "id": "Dlvx4_mQe-G1"
      },
      "source": [
        "L’accuracy du test est passée de 87.64 % (V1) à 91.42 % (V2), soit une amélioration de près de 4 %. L’accuracy en validation suit également cette progression, montrant que le modèle V2 généralise mieux que V1.\n",
        "\n",
        "L’augmentation du nombre de couches et l’utilisation de Batch Normalization semblent avoir stabilisé l’apprentissage, tandis que l’ajout de Dropout et de l’Early Stopping a permis de limiter le surapprentissage."
      ]
    },
    {
      "cell_type": "code",
      "execution_count": null,
      "metadata": {
        "colab": {
          "base_uri": "https://localhost:8080/"
        },
        "id": "R1GDy7YYGGf-",
        "outputId": "f421bfeb-5728-4ae8-edcd-0dcdeddffea8"
      },
      "outputs": [
        {
          "name": "stdout",
          "output_type": "stream",
          "text": [
            "[V2] Validation accuracy: 0.9125\n",
            "\u001b[1m119/119\u001b[0m \u001b[32m━━━━━━━━━━━━━━━━━━━━\u001b[0m\u001b[37m\u001b[0m \u001b[1m4s\u001b[0m 37ms/step\n",
            "              precision    recall  f1-score   support\n",
            "\n",
            "       Homme       0.92      0.91      0.92      1983\n",
            "       Femme       0.91      0.91      0.91      1811\n",
            "\n",
            "    accuracy                           0.91      3794\n",
            "   macro avg       0.91      0.91      0.91      3794\n",
            "weighted avg       0.91      0.91      0.91      3794\n",
            "\n"
          ]
        }
      ],
      "source": [
        "# Évaluation sur le jeu de validation\n",
        "test_loss_val, test_acc_val = model_v2.evaluate(X_val, y_val, verbose=0)\n",
        "print(f\"[V2] Validation accuracy: {test_acc_val:.4f}\")\n",
        "\n",
        "# Prédictions sur le jeu de validation\n",
        "y_pred_prob_val = model_v2.predict(X_val)\n",
        "y_pred_val = (y_pred_prob_val > 0.5).astype(\"int32\")\n",
        "\n",
        "# Rapport de classification pour le jeu de validation\n",
        "print(classification_report(y_val, y_pred_val, target_names=[\"Homme\", \"Femme\"]))"
      ]
    },
    {
      "cell_type": "markdown",
      "metadata": {
        "id": "6UHsDSo9fLJi"
      },
      "source": [
        "Contrairement à V1, où l’équilibre entre les classes était légèrement biaisé en faveur des hommes, V2 montre des scores parfaitement équilibrés entre les classes \"Homme\" et \"Femme\".\n",
        "\n",
        "Le rappel de la classe \"Femme\" est passé de 0.84 (V1) à 0.91 (V2), réduisant ainsi les erreurs de classification.\n",
        "\n",
        "La précision des deux classes est maintenant symétrique (0.91-0.92), ce qui signifie que le modèle fait aussi bien pour identifier un homme qu’une femme.\n",
        "\n"
      ]
    },
    {
      "cell_type": "markdown",
      "metadata": {
        "id": "tv-7opVcF3W0"
      },
      "source": [
        "### Visualisations de la courbe de la fonction de perte et de l'accuracy"
      ]
    },
    {
      "cell_type": "code",
      "execution_count": null,
      "metadata": {
        "colab": {
          "base_uri": "https://localhost:8080/",
          "height": 407
        },
        "id": "b6r6JdXFFc-s",
        "outputId": "7b488e89-6a4c-4def-c1d4-51438ad08181"
      },
      "outputs": [
        {
          "data": {
            "image/png": "[encoded data removed]",
            "text/plain": [
              "<Figure size 1000x400 with 2 Axes>"
            ]
          },
          "metadata": {},
          "output_type": "display_data"
        }
      ],
      "source": [
        "plt.figure(figsize=(10,4))\n",
        "\n",
        "# Courbe de la fonction de perte\n",
        "plt.subplot(1,2,1)\n",
        "plt.plot(history_v2.history['loss'], label='Train Loss')\n",
        "plt.plot(history_v2.history['val_loss'], label='Val Loss')\n",
        "plt.xlabel('Époques')\n",
        "plt.ylabel('Perte (Loss)')\n",
        "plt.legend()\n",
        "plt.title('[V2] Training & Validation Loss')\n",
        "\n",
        "# Courbe d’accuracy\n",
        "plt.subplot(1,2,2)\n",
        "plt.plot(history_v2.history['accuracy'], label='Train Accuracy')\n",
        "plt.plot(history_v2.history['val_accuracy'], label='Val Accuracy')\n",
        "plt.xlabel('Époques')\n",
        "plt.ylabel('Accuracy')\n",
        "plt.legend()\n",
        "plt.title('[V2] Training & Validation Accuracy')\n",
        "\n",
        "plt.tight_layout()\n",
        "plt.show()"
      ]
    },
    {
      "cell_type": "markdown",
      "metadata": {
        "id": "RYGtLqgdkmgJ"
      },
      "source": [
        "La loss d’entraînement diminue progressivement, sans oscillations excessives.\n",
        "\n",
        "La loss de validation suit une tendance similaire et ne montre pas de remontée brutale, ce qui signifie que le modèle ne semble pas souffrir de surajustement.\n",
        "\n",
        "Dans V1, la validation loss commençait à osciller après quelques époques, ce qui était un signe de surapprentissage.\n",
        "\n",
        "Ici, V2 reste plus stable, ce qui confirme une meilleure régularisation.\n",
        "\n",
        "\n",
        "L’accuracy d’entraînement et de validation sont très proches, signe que le modèle généralise bien sans apprendre excessivement les données d’entraînement.\n",
        "\n",
        "L’accuracy de validation dépasse légèrement celle de l’entraînement à certaines époques, ce qui peut être dû aux effets du Dropout et de la régularisation, qui rendent le modèle plus robuste sur des données non vues."
      ]
    },
    {
      "cell_type": "markdown",
      "metadata": {
        "id": "zzor8VEsdZ7f"
      },
      "source": [
        "## III. Adaptation du Modèle à une Résolution de 128×128"
      ]
    },
    {
      "cell_type": "markdown",
      "metadata": {
        "id": "X2IgsqzunRhC"
      },
      "source": [
        "Dans le cadre d'une potentielle amélioration du modèle, nous avons testé un redimensionnement des images en 128×128 au lieu de 64×64.\n",
        "\n",
        "L’objectif est d’exploiter plus d’informations visuelles pour améliorer la classification, au prix d’un coût computationnel plus élevé.\n",
        "\n",
        "Cependant, une limitation mémoire (RAM insuffisante) a empêché d’appliquer directement ce changement avec l’implémentation initiale.\n",
        "\n",
        "En effet, dans l’implémentation précédente, les images étaient chargées et stockées en mémoire sous forme de tableaux NumPy avant d’être traitées.\n",
        "\n",
        "Or, stocker des images en 128×128×3 nécessite quatre fois plus de mémoire qu’avec des images de 64×64×3.\n",
        "\n",
        "De ce fait, lorsque le dataset contient plusieurs dizaines de milliers d’images, la consommation mémoire explose, rendant l’entraînement impossible sur une machine avec une RAM limitée.\n",
        "\n",
        "\n",
        "Pour contourner cette contrainte, au lieu de charger toutes les images en RAM, la solution mise en place consiste à :\n",
        "\n",
        "  - Stocker uniquement les chemins des fichiers, sans charger directement les images.\n",
        "\n",
        "  - Créer un dataset TensorFlow (tf.data.Dataset), qui charge les images à la demande, directement depuis le stockage.\n",
        "\n",
        "  - Appliquer le prétraitement à la volée, au lieu de stocker des images redimensionnées.\n",
        "\n",
        "  - Utiliser le prefetching et le batching, afin d’optimiser la rapidité du pipeline.\n",
        "\n"
      ]
    },
    {
      "cell_type": "code",
      "execution_count": null,
      "metadata": {
        "id": "AIu1cth8dZlI"
      },
      "outputs": [],
      "source": [
        "IMG_HEIGHT = 128\n",
        "IMG_WIDTH = 128\n",
        "BATCH_SIZE = 32\n",
        "TEST_SIZE = 0.2\n",
        "VAL_SIZE = 0.2"
      ]
    },
    {
      "cell_type": "markdown",
      "metadata": {
        "id": "ZD2y0BKSpQpi"
      },
      "source": [
        "### Prétraitement des images et chargement des fichiers"
      ]
    },
    {
      "cell_type": "code",
      "execution_count": null,
      "metadata": {
        "id": "wVC5-zfWeHlr"
      },
      "outputs": [],
      "source": [
        "# --- PRÉTRAITEMENT D'UNE IMAGE ---\n",
        "def preprocess_image(image_path, label):\n",
        "    \"\"\"\n",
        "    Charge une image, la redimensionne, et la normalise.\n",
        "    \"\"\"\n",
        "    image = tf.io.read_file(image_path)\n",
        "    image = tf.image.decode_jpeg(image, channels=3)\n",
        "    image = tf.image.resize(image, (IMG_HEIGHT, IMG_WIDTH))  # Resize en 128*128\n",
        "    image = image / 255.0  # Normalisation entre [0,1]\n",
        "    return image, label"
      ]
    },
    {
      "cell_type": "code",
      "execution_count": null,
      "metadata": {
        "colab": {
          "base_uri": "https://localhost:8080/"
        },
        "id": "lAUEk3zpojLb",
        "outputId": "34d7476b-be6e-481e-9a4d-1c7d6d2b99a4"
      },
      "outputs": [
        {
          "name": "stdout",
          "output_type": "stream",
          "text": [
            "Nombre total d'images : 23708\n"
          ]
        }
      ],
      "source": [
        "# --- CHARGEMENT DES FICHIERS ---\n",
        "file_paths = []\n",
        "labels = []\n",
        "\n",
        "for file in os.listdir(DATA_DIR):\n",
        "    parts = file.split(\"_\")\n",
        "    if len(parts) < 2:\n",
        "        continue  # Évite les fichiers mal nommés\n",
        "\n",
        "    try:\n",
        "        gender = int(parts[1])  # Récupère le genre (0 = Homme, 1 = Femme)\n",
        "    except:\n",
        "        continue  # Ignore les erreurs\n",
        "\n",
        "    file_paths.append(os.path.join(DATA_DIR, file))\n",
        "    labels.append(gender)\n",
        "\n",
        "file_paths = np.array(file_paths)\n",
        "labels = np.array(labels)\n",
        "\n",
        "print(f\"Nombre total d'images : {len(file_paths)}\")\n"
      ]
    },
    {
      "cell_type": "markdown",
      "metadata": {
        "id": "WH7CSJgQowsb"
      },
      "source": [
        "### Division du jeu de données"
      ]
    },
    {
      "cell_type": "code",
      "execution_count": null,
      "metadata": {
        "colab": {
          "base_uri": "https://localhost:8080/"
        },
        "id": "HfRrONVIon5e",
        "outputId": "ebea2c51-2526-48b6-ae15-6c4a45c4ae63"
      },
      "outputs": [
        {
          "name": "stdout",
          "output_type": "stream",
          "text": [
            "Taille du jeu d'entraînement : 15172\n",
            "Taille du jeu de validation : 3794\n",
            "Taille du jeu de test : 4742\n"
          ]
        }
      ],
      "source": [
        "# --- SPLIT TRAIN / TEST / VALIDATION ---\n",
        "X_train, X_test, y_train, y_test = train_test_split(\n",
        "    file_paths, labels,\n",
        "    test_size=TEST_SIZE,\n",
        "    stratify=labels,\n",
        "    random_state=42\n",
        ")\n",
        "\n",
        "X_train, X_val, y_train, y_val = train_test_split(\n",
        "    X_train, y_train,\n",
        "    test_size=VAL_SIZE,\n",
        "    stratify=y_train,\n",
        "    random_state=42\n",
        ")\n",
        "\n",
        "print(f\"Taille du jeu d'entraînement : {len(X_train)}\")\n",
        "print(f\"Taille du jeu de validation : {len(X_val)}\")\n",
        "print(f\"Taille du jeu de test : {len(X_test)}\")\n"
      ]
    },
    {
      "cell_type": "markdown",
      "metadata": {
        "id": "mTsSvGQGo0YT"
      },
      "source": [
        "### Création des datasets tf"
      ]
    },
    {
      "cell_type": "code",
      "execution_count": null,
      "metadata": {
        "id": "eOaciUJZotr6"
      },
      "outputs": [],
      "source": [
        "# --- CRÉATION DES DATASETS TF ---\n",
        "def create_tf_dataset(X, y, batch_size=BATCH_SIZE):\n",
        "    dataset = tf.data.Dataset.from_tensor_slices((X, y))\n",
        "    dataset = dataset.map(preprocess_image, num_parallel_calls=tf.data.AUTOTUNE)\n",
        "    dataset = dataset.batch(batch_size).prefetch(tf.data.AUTOTUNE)\n",
        "    return dataset\n",
        "\n",
        "train_dataset = create_tf_dataset(X_train, y_train)\n",
        "val_dataset = create_tf_dataset(X_val, y_val)\n",
        "test_dataset = create_tf_dataset(X_test, y_test)\n"
      ]
    },
    {
      "cell_type": "markdown",
      "metadata": {
        "id": "VB0_QMvZpcVF"
      },
      "source": [
        "### Implémentation 3"
      ]
    },
    {
      "cell_type": "code",
      "execution_count": null,
      "metadata": {
        "colab": {
          "base_uri": "https://localhost:8080/",
          "height": 961
        },
        "id": "iFbhk8keeWyF",
        "outputId": "62c5ab81-28d0-424e-d05c-b18f2e93befd"
      },
      "outputs": [
        {
          "data": {
            "text/html": [
              "<pre style=\"white-space:pre;overflow-x:auto;line-height:normal;font-family:Menlo,'DejaVu Sans Mono',consolas,'Courier New',monospace\"><span style=\"font-weight: bold\">Model: \"sequential_6\"</span>\n",
              "</pre>\n"
            ],
            "text/plain": [
              "\u001b[1mModel: \"sequential_6\"\u001b[0m\n"
            ]
          },
          "metadata": {},
          "output_type": "display_data"
        },
        {
          "data": {
            "text/html": [
              "<pre style=\"white-space:pre;overflow-x:auto;line-height:normal;font-family:Menlo,'DejaVu Sans Mono',consolas,'Courier New',monospace\">┏━━━━━━━━━━━━━━━━━━━━━━━━━━━━━━━━━━━━━━┳━━━━━━━━━━━━━━━━━━━━━━━━━━━━━┳━━━━━━━━━━━━━━━━━┓\n",
              "┃<span style=\"font-weight: bold\"> Layer (type)                         </span>┃<span style=\"font-weight: bold\"> Output Shape                </span>┃<span style=\"font-weight: bold\">         Param # </span>┃\n",
              "┡━━━━━━━━━━━━━━━━━━━━━━━━━━━━━━━━━━━━━━╇━━━━━━━━━━━━━━━━━━━━━━━━━━━━━╇━━━━━━━━━━━━━━━━━┩\n",
              "│ random_flip_5 (<span style=\"color: #0087ff; text-decoration-color: #0087ff\">RandomFlip</span>)           │ (<span style=\"color: #00d7ff; text-decoration-color: #00d7ff\">None</span>, <span style=\"color: #00af00; text-decoration-color: #00af00\">128</span>, <span style=\"color: #00af00; text-decoration-color: #00af00\">128</span>, <span style=\"color: #00af00; text-decoration-color: #00af00\">3</span>)         │               <span style=\"color: #00af00; text-decoration-color: #00af00\">0</span> │\n",
              "├──────────────────────────────────────┼─────────────────────────────┼─────────────────┤\n",
              "│ random_rotation_5 (<span style=\"color: #0087ff; text-decoration-color: #0087ff\">RandomRotation</span>)   │ (<span style=\"color: #00d7ff; text-decoration-color: #00d7ff\">None</span>, <span style=\"color: #00af00; text-decoration-color: #00af00\">128</span>, <span style=\"color: #00af00; text-decoration-color: #00af00\">128</span>, <span style=\"color: #00af00; text-decoration-color: #00af00\">3</span>)         │               <span style=\"color: #00af00; text-decoration-color: #00af00\">0</span> │\n",
              "├──────────────────────────────────────┼─────────────────────────────┼─────────────────┤\n",
              "│ random_zoom_5 (<span style=\"color: #0087ff; text-decoration-color: #0087ff\">RandomZoom</span>)           │ (<span style=\"color: #00d7ff; text-decoration-color: #00d7ff\">None</span>, <span style=\"color: #00af00; text-decoration-color: #00af00\">128</span>, <span style=\"color: #00af00; text-decoration-color: #00af00\">128</span>, <span style=\"color: #00af00; text-decoration-color: #00af00\">3</span>)         │               <span style=\"color: #00af00; text-decoration-color: #00af00\">0</span> │\n",
              "├──────────────────────────────────────┼─────────────────────────────┼─────────────────┤\n",
              "│ conv2d_22 (<span style=\"color: #0087ff; text-decoration-color: #0087ff\">Conv2D</span>)                   │ (<span style=\"color: #00d7ff; text-decoration-color: #00d7ff\">None</span>, <span style=\"color: #00af00; text-decoration-color: #00af00\">128</span>, <span style=\"color: #00af00; text-decoration-color: #00af00\">128</span>, <span style=\"color: #00af00; text-decoration-color: #00af00\">16</span>)        │             <span style=\"color: #00af00; text-decoration-color: #00af00\">448</span> │\n",
              "├──────────────────────────────────────┼─────────────────────────────┼─────────────────┤\n",
              "│ batch_normalization_26               │ (<span style=\"color: #00d7ff; text-decoration-color: #00d7ff\">None</span>, <span style=\"color: #00af00; text-decoration-color: #00af00\">128</span>, <span style=\"color: #00af00; text-decoration-color: #00af00\">128</span>, <span style=\"color: #00af00; text-decoration-color: #00af00\">16</span>)        │              <span style=\"color: #00af00; text-decoration-color: #00af00\">64</span> │\n",
              "│ (<span style=\"color: #0087ff; text-decoration-color: #0087ff\">BatchNormalization</span>)                 │                             │                 │\n",
              "├──────────────────────────────────────┼─────────────────────────────┼─────────────────┤\n",
              "│ max_pooling2d_22 (<span style=\"color: #0087ff; text-decoration-color: #0087ff\">MaxPooling2D</span>)      │ (<span style=\"color: #00d7ff; text-decoration-color: #00d7ff\">None</span>, <span style=\"color: #00af00; text-decoration-color: #00af00\">64</span>, <span style=\"color: #00af00; text-decoration-color: #00af00\">64</span>, <span style=\"color: #00af00; text-decoration-color: #00af00\">16</span>)          │               <span style=\"color: #00af00; text-decoration-color: #00af00\">0</span> │\n",
              "├──────────────────────────────────────┼─────────────────────────────┼─────────────────┤\n",
              "│ conv2d_23 (<span style=\"color: #0087ff; text-decoration-color: #0087ff\">Conv2D</span>)                   │ (<span style=\"color: #00d7ff; text-decoration-color: #00d7ff\">None</span>, <span style=\"color: #00af00; text-decoration-color: #00af00\">64</span>, <span style=\"color: #00af00; text-decoration-color: #00af00\">64</span>, <span style=\"color: #00af00; text-decoration-color: #00af00\">32</span>)          │           <span style=\"color: #00af00; text-decoration-color: #00af00\">4,640</span> │\n",
              "├──────────────────────────────────────┼─────────────────────────────┼─────────────────┤\n",
              "│ batch_normalization_27               │ (<span style=\"color: #00d7ff; text-decoration-color: #00d7ff\">None</span>, <span style=\"color: #00af00; text-decoration-color: #00af00\">64</span>, <span style=\"color: #00af00; text-decoration-color: #00af00\">64</span>, <span style=\"color: #00af00; text-decoration-color: #00af00\">32</span>)          │             <span style=\"color: #00af00; text-decoration-color: #00af00\">128</span> │\n",
              "│ (<span style=\"color: #0087ff; text-decoration-color: #0087ff\">BatchNormalization</span>)                 │                             │                 │\n",
              "├──────────────────────────────────────┼─────────────────────────────┼─────────────────┤\n",
              "│ max_pooling2d_23 (<span style=\"color: #0087ff; text-decoration-color: #0087ff\">MaxPooling2D</span>)      │ (<span style=\"color: #00d7ff; text-decoration-color: #00d7ff\">None</span>, <span style=\"color: #00af00; text-decoration-color: #00af00\">32</span>, <span style=\"color: #00af00; text-decoration-color: #00af00\">32</span>, <span style=\"color: #00af00; text-decoration-color: #00af00\">32</span>)          │               <span style=\"color: #00af00; text-decoration-color: #00af00\">0</span> │\n",
              "├──────────────────────────────────────┼─────────────────────────────┼─────────────────┤\n",
              "│ conv2d_24 (<span style=\"color: #0087ff; text-decoration-color: #0087ff\">Conv2D</span>)                   │ (<span style=\"color: #00d7ff; text-decoration-color: #00d7ff\">None</span>, <span style=\"color: #00af00; text-decoration-color: #00af00\">32</span>, <span style=\"color: #00af00; text-decoration-color: #00af00\">32</span>, <span style=\"color: #00af00; text-decoration-color: #00af00\">64</span>)          │          <span style=\"color: #00af00; text-decoration-color: #00af00\">18,496</span> │\n",
              "├──────────────────────────────────────┼─────────────────────────────┼─────────────────┤\n",
              "│ batch_normalization_28               │ (<span style=\"color: #00d7ff; text-decoration-color: #00d7ff\">None</span>, <span style=\"color: #00af00; text-decoration-color: #00af00\">32</span>, <span style=\"color: #00af00; text-decoration-color: #00af00\">32</span>, <span style=\"color: #00af00; text-decoration-color: #00af00\">64</span>)          │             <span style=\"color: #00af00; text-decoration-color: #00af00\">256</span> │\n",
              "│ (<span style=\"color: #0087ff; text-decoration-color: #0087ff\">BatchNormalization</span>)                 │                             │                 │\n",
              "├──────────────────────────────────────┼─────────────────────────────┼─────────────────┤\n",
              "│ max_pooling2d_24 (<span style=\"color: #0087ff; text-decoration-color: #0087ff\">MaxPooling2D</span>)      │ (<span style=\"color: #00d7ff; text-decoration-color: #00d7ff\">None</span>, <span style=\"color: #00af00; text-decoration-color: #00af00\">16</span>, <span style=\"color: #00af00; text-decoration-color: #00af00\">16</span>, <span style=\"color: #00af00; text-decoration-color: #00af00\">64</span>)          │               <span style=\"color: #00af00; text-decoration-color: #00af00\">0</span> │\n",
              "├──────────────────────────────────────┼─────────────────────────────┼─────────────────┤\n",
              "│ conv2d_25 (<span style=\"color: #0087ff; text-decoration-color: #0087ff\">Conv2D</span>)                   │ (<span style=\"color: #00d7ff; text-decoration-color: #00d7ff\">None</span>, <span style=\"color: #00af00; text-decoration-color: #00af00\">16</span>, <span style=\"color: #00af00; text-decoration-color: #00af00\">16</span>, <span style=\"color: #00af00; text-decoration-color: #00af00\">128</span>)         │          <span style=\"color: #00af00; text-decoration-color: #00af00\">73,856</span> │\n",
              "├──────────────────────────────────────┼─────────────────────────────┼─────────────────┤\n",
              "│ batch_normalization_29               │ (<span style=\"color: #00d7ff; text-decoration-color: #00d7ff\">None</span>, <span style=\"color: #00af00; text-decoration-color: #00af00\">16</span>, <span style=\"color: #00af00; text-decoration-color: #00af00\">16</span>, <span style=\"color: #00af00; text-decoration-color: #00af00\">128</span>)         │             <span style=\"color: #00af00; text-decoration-color: #00af00\">512</span> │\n",
              "│ (<span style=\"color: #0087ff; text-decoration-color: #0087ff\">BatchNormalization</span>)                 │                             │                 │\n",
              "├──────────────────────────────────────┼─────────────────────────────┼─────────────────┤\n",
              "│ max_pooling2d_25 (<span style=\"color: #0087ff; text-decoration-color: #0087ff\">MaxPooling2D</span>)      │ (<span style=\"color: #00d7ff; text-decoration-color: #00d7ff\">None</span>, <span style=\"color: #00af00; text-decoration-color: #00af00\">8</span>, <span style=\"color: #00af00; text-decoration-color: #00af00\">8</span>, <span style=\"color: #00af00; text-decoration-color: #00af00\">128</span>)           │               <span style=\"color: #00af00; text-decoration-color: #00af00\">0</span> │\n",
              "├──────────────────────────────────────┼─────────────────────────────┼─────────────────┤\n",
              "│ conv2d_26 (<span style=\"color: #0087ff; text-decoration-color: #0087ff\">Conv2D</span>)                   │ (<span style=\"color: #00d7ff; text-decoration-color: #00d7ff\">None</span>, <span style=\"color: #00af00; text-decoration-color: #00af00\">8</span>, <span style=\"color: #00af00; text-decoration-color: #00af00\">8</span>, <span style=\"color: #00af00; text-decoration-color: #00af00\">256</span>)           │         <span style=\"color: #00af00; text-decoration-color: #00af00\">295,168</span> │\n",
              "├──────────────────────────────────────┼─────────────────────────────┼─────────────────┤\n",
              "│ batch_normalization_30               │ (<span style=\"color: #00d7ff; text-decoration-color: #00d7ff\">None</span>, <span style=\"color: #00af00; text-decoration-color: #00af00\">8</span>, <span style=\"color: #00af00; text-decoration-color: #00af00\">8</span>, <span style=\"color: #00af00; text-decoration-color: #00af00\">256</span>)           │           <span style=\"color: #00af00; text-decoration-color: #00af00\">1,024</span> │\n",
              "│ (<span style=\"color: #0087ff; text-decoration-color: #0087ff\">BatchNormalization</span>)                 │                             │                 │\n",
              "├──────────────────────────────────────┼─────────────────────────────┼─────────────────┤\n",
              "│ max_pooling2d_26 (<span style=\"color: #0087ff; text-decoration-color: #0087ff\">MaxPooling2D</span>)      │ (<span style=\"color: #00d7ff; text-decoration-color: #00d7ff\">None</span>, <span style=\"color: #00af00; text-decoration-color: #00af00\">4</span>, <span style=\"color: #00af00; text-decoration-color: #00af00\">4</span>, <span style=\"color: #00af00; text-decoration-color: #00af00\">256</span>)           │               <span style=\"color: #00af00; text-decoration-color: #00af00\">0</span> │\n",
              "├──────────────────────────────────────┼─────────────────────────────┼─────────────────┤\n",
              "│ flatten_6 (<span style=\"color: #0087ff; text-decoration-color: #0087ff\">Flatten</span>)                  │ (<span style=\"color: #00d7ff; text-decoration-color: #00d7ff\">None</span>, <span style=\"color: #00af00; text-decoration-color: #00af00\">4096</span>)                │               <span style=\"color: #00af00; text-decoration-color: #00af00\">0</span> │\n",
              "├──────────────────────────────────────┼─────────────────────────────┼─────────────────┤\n",
              "│ dense_12 (<span style=\"color: #0087ff; text-decoration-color: #0087ff\">Dense</span>)                     │ (<span style=\"color: #00d7ff; text-decoration-color: #00d7ff\">None</span>, <span style=\"color: #00af00; text-decoration-color: #00af00\">256</span>)                 │       <span style=\"color: #00af00; text-decoration-color: #00af00\">1,048,832</span> │\n",
              "├──────────────────────────────────────┼─────────────────────────────┼─────────────────┤\n",
              "│ batch_normalization_31               │ (<span style=\"color: #00d7ff; text-decoration-color: #00d7ff\">None</span>, <span style=\"color: #00af00; text-decoration-color: #00af00\">256</span>)                 │           <span style=\"color: #00af00; text-decoration-color: #00af00\">1,024</span> │\n",
              "│ (<span style=\"color: #0087ff; text-decoration-color: #0087ff\">BatchNormalization</span>)                 │                             │                 │\n",
              "├──────────────────────────────────────┼─────────────────────────────┼─────────────────┤\n",
              "│ dropout_5 (<span style=\"color: #0087ff; text-decoration-color: #0087ff\">Dropout</span>)                  │ (<span style=\"color: #00d7ff; text-decoration-color: #00d7ff\">None</span>, <span style=\"color: #00af00; text-decoration-color: #00af00\">256</span>)                 │               <span style=\"color: #00af00; text-decoration-color: #00af00\">0</span> │\n",
              "├──────────────────────────────────────┼─────────────────────────────┼─────────────────┤\n",
              "│ dense_13 (<span style=\"color: #0087ff; text-decoration-color: #0087ff\">Dense</span>)                     │ (<span style=\"color: #00d7ff; text-decoration-color: #00d7ff\">None</span>, <span style=\"color: #00af00; text-decoration-color: #00af00\">1</span>)                   │             <span style=\"color: #00af00; text-decoration-color: #00af00\">257</span> │\n",
              "└──────────────────────────────────────┴─────────────────────────────┴─────────────────┘\n",
              "</pre>\n"
            ],
            "text/plain": [
              "┏━━━━━━━━━━━━━━━━━━━━━━━━━━━━━━━━━━━━━━┳━━━━━━━━━━━━━━━━━━━━━━━━━━━━━┳━━━━━━━━━━━━━━━━━┓\n",
              "┃\u001b[1m \u001b[0m\u001b[1mLayer (type)                        \u001b[0m\u001b[1m \u001b[0m┃\u001b[1m \u001b[0m\u001b[1mOutput Shape               \u001b[0m\u001b[1m \u001b[0m┃\u001b[1m \u001b[0m\u001b[1m        Param #\u001b[0m\u001b[1m \u001b[0m┃\n",
              "┡━━━━━━━━━━━━━━━━━━━━━━━━━━━━━━━━━━━━━━╇━━━━━━━━━━━━━━━━━━━━━━━━━━━━━╇━━━━━━━━━━━━━━━━━┩\n",
              "│ random_flip_5 (\u001b[38;5;33mRandomFlip\u001b[0m)           │ (\u001b[38;5;45mNone\u001b[0m, \u001b[38;5;34m128\u001b[0m, \u001b[38;5;34m128\u001b[0m, \u001b[38;5;34m3\u001b[0m)         │               \u001b[38;5;34m0\u001b[0m │\n",
              "├──────────────────────────────────────┼─────────────────────────────┼─────────────────┤\n",
              "│ random_rotation_5 (\u001b[38;5;33mRandomRotation\u001b[0m)   │ (\u001b[38;5;45mNone\u001b[0m, \u001b[38;5;34m128\u001b[0m, \u001b[38;5;34m128\u001b[0m, \u001b[38;5;34m3\u001b[0m)         │               \u001b[38;5;34m0\u001b[0m │\n",
              "├──────────────────────────────────────┼─────────────────────────────┼─────────────────┤\n",
              "│ random_zoom_5 (\u001b[38;5;33mRandomZoom\u001b[0m)           │ (\u001b[38;5;45mNone\u001b[0m, \u001b[38;5;34m128\u001b[0m, \u001b[38;5;34m128\u001b[0m, \u001b[38;5;34m3\u001b[0m)         │               \u001b[38;5;34m0\u001b[0m │\n",
              "├──────────────────────────────────────┼─────────────────────────────┼─────────────────┤\n",
              "│ conv2d_22 (\u001b[38;5;33mConv2D\u001b[0m)                   │ (\u001b[38;5;45mNone\u001b[0m, \u001b[38;5;34m128\u001b[0m, \u001b[38;5;34m128\u001b[0m, \u001b[38;5;34m16\u001b[0m)        │             \u001b[38;5;34m448\u001b[0m │\n",
              "├──────────────────────────────────────┼─────────────────────────────┼─────────────────┤\n",
              "│ batch_normalization_26               │ (\u001b[38;5;45mNone\u001b[0m, \u001b[38;5;34m128\u001b[0m, \u001b[38;5;34m128\u001b[0m, \u001b[38;5;34m16\u001b[0m)        │              \u001b[38;5;34m64\u001b[0m │\n",
              "│ (\u001b[38;5;33mBatchNormalization\u001b[0m)                 │                             │                 │\n",
              "├──────────────────────────────────────┼─────────────────────────────┼─────────────────┤\n",
              "│ max_pooling2d_22 (\u001b[38;5;33mMaxPooling2D\u001b[0m)      │ (\u001b[38;5;45mNone\u001b[0m, \u001b[38;5;34m64\u001b[0m, \u001b[38;5;34m64\u001b[0m, \u001b[38;5;34m16\u001b[0m)          │               \u001b[38;5;34m0\u001b[0m │\n",
              "├──────────────────────────────────────┼─────────────────────────────┼─────────────────┤\n",
              "│ conv2d_23 (\u001b[38;5;33mConv2D\u001b[0m)                   │ (\u001b[38;5;45mNone\u001b[0m, \u001b[38;5;34m64\u001b[0m, \u001b[38;5;34m64\u001b[0m, \u001b[38;5;34m32\u001b[0m)          │           \u001b[38;5;34m4,640\u001b[0m │\n",
              "├──────────────────────────────────────┼─────────────────────────────┼─────────────────┤\n",
              "│ batch_normalization_27               │ (\u001b[38;5;45mNone\u001b[0m, \u001b[38;5;34m64\u001b[0m, \u001b[38;5;34m64\u001b[0m, \u001b[38;5;34m32\u001b[0m)          │             \u001b[38;5;34m128\u001b[0m │\n",
              "│ (\u001b[38;5;33mBatchNormalization\u001b[0m)                 │                             │                 │\n",
              "├──────────────────────────────────────┼─────────────────────────────┼─────────────────┤\n",
              "│ max_pooling2d_23 (\u001b[38;5;33mMaxPooling2D\u001b[0m)      │ (\u001b[38;5;45mNone\u001b[0m, \u001b[38;5;34m32\u001b[0m, \u001b[38;5;34m32\u001b[0m, \u001b[38;5;34m32\u001b[0m)          │               \u001b[38;5;34m0\u001b[0m │\n",
              "├──────────────────────────────────────┼─────────────────────────────┼─────────────────┤\n",
              "│ conv2d_24 (\u001b[38;5;33mConv2D\u001b[0m)                   │ (\u001b[38;5;45mNone\u001b[0m, \u001b[38;5;34m32\u001b[0m, \u001b[38;5;34m32\u001b[0m, \u001b[38;5;34m64\u001b[0m)          │          \u001b[38;5;34m18,496\u001b[0m │\n",
              "├──────────────────────────────────────┼─────────────────────────────┼─────────────────┤\n",
              "│ batch_normalization_28               │ (\u001b[38;5;45mNone\u001b[0m, \u001b[38;5;34m32\u001b[0m, \u001b[38;5;34m32\u001b[0m, \u001b[38;5;34m64\u001b[0m)          │             \u001b[38;5;34m256\u001b[0m │\n",
              "│ (\u001b[38;5;33mBatchNormalization\u001b[0m)                 │                             │                 │\n",
              "├──────────────────────────────────────┼─────────────────────────────┼─────────────────┤\n",
              "│ max_pooling2d_24 (\u001b[38;5;33mMaxPooling2D\u001b[0m)      │ (\u001b[38;5;45mNone\u001b[0m, \u001b[38;5;34m16\u001b[0m, \u001b[38;5;34m16\u001b[0m, \u001b[38;5;34m64\u001b[0m)          │               \u001b[38;5;34m0\u001b[0m │\n",
              "├──────────────────────────────────────┼─────────────────────────────┼─────────────────┤\n",
              "│ conv2d_25 (\u001b[38;5;33mConv2D\u001b[0m)                   │ (\u001b[38;5;45mNone\u001b[0m, \u001b[38;5;34m16\u001b[0m, \u001b[38;5;34m16\u001b[0m, \u001b[38;5;34m128\u001b[0m)         │          \u001b[38;5;34m73,856\u001b[0m │\n",
              "├──────────────────────────────────────┼─────────────────────────────┼─────────────────┤\n",
              "│ batch_normalization_29               │ (\u001b[38;5;45mNone\u001b[0m, \u001b[38;5;34m16\u001b[0m, \u001b[38;5;34m16\u001b[0m, \u001b[38;5;34m128\u001b[0m)         │             \u001b[38;5;34m512\u001b[0m │\n",
              "│ (\u001b[38;5;33mBatchNormalization\u001b[0m)                 │                             │                 │\n",
              "├──────────────────────────────────────┼─────────────────────────────┼─────────────────┤\n",
              "│ max_pooling2d_25 (\u001b[38;5;33mMaxPooling2D\u001b[0m)      │ (\u001b[38;5;45mNone\u001b[0m, \u001b[38;5;34m8\u001b[0m, \u001b[38;5;34m8\u001b[0m, \u001b[38;5;34m128\u001b[0m)           │               \u001b[38;5;34m0\u001b[0m │\n",
              "├──────────────────────────────────────┼─────────────────────────────┼─────────────────┤\n",
              "│ conv2d_26 (\u001b[38;5;33mConv2D\u001b[0m)                   │ (\u001b[38;5;45mNone\u001b[0m, \u001b[38;5;34m8\u001b[0m, \u001b[38;5;34m8\u001b[0m, \u001b[38;5;34m256\u001b[0m)           │         \u001b[38;5;34m295,168\u001b[0m │\n",
              "├──────────────────────────────────────┼─────────────────────────────┼─────────────────┤\n",
              "│ batch_normalization_30               │ (\u001b[38;5;45mNone\u001b[0m, \u001b[38;5;34m8\u001b[0m, \u001b[38;5;34m8\u001b[0m, \u001b[38;5;34m256\u001b[0m)           │           \u001b[38;5;34m1,024\u001b[0m │\n",
              "│ (\u001b[38;5;33mBatchNormalization\u001b[0m)                 │                             │                 │\n",
              "├──────────────────────────────────────┼─────────────────────────────┼─────────────────┤\n",
              "│ max_pooling2d_26 (\u001b[38;5;33mMaxPooling2D\u001b[0m)      │ (\u001b[38;5;45mNone\u001b[0m, \u001b[38;5;34m4\u001b[0m, \u001b[38;5;34m4\u001b[0m, \u001b[38;5;34m256\u001b[0m)           │               \u001b[38;5;34m0\u001b[0m │\n",
              "├──────────────────────────────────────┼─────────────────────────────┼─────────────────┤\n",
              "│ flatten_6 (\u001b[38;5;33mFlatten\u001b[0m)                  │ (\u001b[38;5;45mNone\u001b[0m, \u001b[38;5;34m4096\u001b[0m)                │               \u001b[38;5;34m0\u001b[0m │\n",
              "├──────────────────────────────────────┼─────────────────────────────┼─────────────────┤\n",
              "│ dense_12 (\u001b[38;5;33mDense\u001b[0m)                     │ (\u001b[38;5;45mNone\u001b[0m, \u001b[38;5;34m256\u001b[0m)                 │       \u001b[38;5;34m1,048,832\u001b[0m │\n",
              "├──────────────────────────────────────┼─────────────────────────────┼─────────────────┤\n",
              "│ batch_normalization_31               │ (\u001b[38;5;45mNone\u001b[0m, \u001b[38;5;34m256\u001b[0m)                 │           \u001b[38;5;34m1,024\u001b[0m │\n",
              "│ (\u001b[38;5;33mBatchNormalization\u001b[0m)                 │                             │                 │\n",
              "├──────────────────────────────────────┼─────────────────────────────┼─────────────────┤\n",
              "│ dropout_5 (\u001b[38;5;33mDropout\u001b[0m)                  │ (\u001b[38;5;45mNone\u001b[0m, \u001b[38;5;34m256\u001b[0m)                 │               \u001b[38;5;34m0\u001b[0m │\n",
              "├──────────────────────────────────────┼─────────────────────────────┼─────────────────┤\n",
              "│ dense_13 (\u001b[38;5;33mDense\u001b[0m)                     │ (\u001b[38;5;45mNone\u001b[0m, \u001b[38;5;34m1\u001b[0m)                   │             \u001b[38;5;34m257\u001b[0m │\n",
              "└──────────────────────────────────────┴─────────────────────────────┴─────────────────┘\n"
            ]
          },
          "metadata": {},
          "output_type": "display_data"
        },
        {
          "data": {
            "text/html": [
              "<pre style=\"white-space:pre;overflow-x:auto;line-height:normal;font-family:Menlo,'DejaVu Sans Mono',consolas,'Courier New',monospace\"><span style=\"font-weight: bold\"> Total params: </span><span style=\"color: #00af00; text-decoration-color: #00af00\">1,444,705</span> (5.51 MB)\n",
              "</pre>\n"
            ],
            "text/plain": [
              "\u001b[1m Total params: \u001b[0m\u001b[38;5;34m1,444,705\u001b[0m (5.51 MB)\n"
            ]
          },
          "metadata": {},
          "output_type": "display_data"
        },
        {
          "data": {
            "text/html": [
              "<pre style=\"white-space:pre;overflow-x:auto;line-height:normal;font-family:Menlo,'DejaVu Sans Mono',consolas,'Courier New',monospace\"><span style=\"font-weight: bold\"> Trainable params: </span><span style=\"color: #00af00; text-decoration-color: #00af00\">1,443,201</span> (5.51 MB)\n",
              "</pre>\n"
            ],
            "text/plain": [
              "\u001b[1m Trainable params: \u001b[0m\u001b[38;5;34m1,443,201\u001b[0m (5.51 MB)\n"
            ]
          },
          "metadata": {},
          "output_type": "display_data"
        },
        {
          "data": {
            "text/html": [
              "<pre style=\"white-space:pre;overflow-x:auto;line-height:normal;font-family:Menlo,'DejaVu Sans Mono',consolas,'Courier New',monospace\"><span style=\"font-weight: bold\"> Non-trainable params: </span><span style=\"color: #00af00; text-decoration-color: #00af00\">1,504</span> (5.88 KB)\n",
              "</pre>\n"
            ],
            "text/plain": [
              "\u001b[1m Non-trainable params: \u001b[0m\u001b[38;5;34m1,504\u001b[0m (5.88 KB)\n"
            ]
          },
          "metadata": {},
          "output_type": "display_data"
        }
      ],
      "source": [
        "def build_model_v3(input_shape=(IMG_HEIGHT, IMG_WIDTH, 3)):\n",
        "    model = Sequential([\n",
        "        # Data Augmentation\n",
        "        Input(shape=input_shape),\n",
        "        RandomFlip(\"horizontal\"),\n",
        "        RandomRotation(0.1),\n",
        "        RandomZoom(0.1),\n",
        "\n",
        "        # Bloc 1\n",
        "        Conv2D(16, (3, 3), activation='relu', padding='same'),\n",
        "        BatchNormalization(),\n",
        "        MaxPooling2D((2, 2)),\n",
        "\n",
        "        # Bloc 2\n",
        "        Conv2D(32, (3, 3), activation='relu', padding='same'),\n",
        "        BatchNormalization(),\n",
        "        MaxPooling2D((2, 2)),\n",
        "\n",
        "        # Bloc 3\n",
        "        Conv2D(64, (3, 3), activation='relu', padding='same'),\n",
        "        BatchNormalization(),\n",
        "        MaxPooling2D((2, 2)),\n",
        "\n",
        "        # Bloc 4\n",
        "        Conv2D(128, (3, 3), activation='relu', padding='same'),\n",
        "        BatchNormalization(),\n",
        "        MaxPooling2D((2, 2)),\n",
        "\n",
        "        # Bloc 5\n",
        "        Conv2D(256, (3, 3), activation='relu', padding='same'),\n",
        "        BatchNormalization(),\n",
        "        MaxPooling2D((2, 2)),\n",
        "\n",
        "        Flatten(),\n",
        "\n",
        "        # Couche Dense + Dropout\n",
        "        Dense(256, activation='relu'),\n",
        "        BatchNormalization(),\n",
        "        Dropout(0.5),\n",
        "\n",
        "        # Sortie binaire (Homme/Femme)\n",
        "        Dense(1, activation='sigmoid')\n",
        "    ])\n",
        "\n",
        "    # Compilation\n",
        "    model.compile(\n",
        "        optimizer=Adam(learning_rate=0.001),  # LR initial\n",
        "        loss='binary_crossentropy',\n",
        "        metrics=['accuracy']\n",
        "    )\n",
        "    return model\n",
        "\n",
        "model_v3 = build_model_v3((IMG_HEIGHT, IMG_WIDTH, 3))\n",
        "model_v3.summary()"
      ]
    },
    {
      "cell_type": "code",
      "execution_count": null,
      "metadata": {
        "colab": {
          "base_uri": "https://localhost:8080/"
        },
        "id": "L6uV8910qU68",
        "outputId": "abf8475e-6e74-40dd-e6b5-bf94660f869f"
      },
      "outputs": [
        {
          "name": "stdout",
          "output_type": "stream",
          "text": [
            "Epoch 1/50\n",
            "\u001b[1m475/475\u001b[0m \u001b[32m━━━━━━━━━━━━━━━━━━━━\u001b[0m\u001b[37m\u001b[0m \u001b[1m378s\u001b[0m 787ms/step - accuracy: 0.7022 - loss: 0.6864 - val_accuracy: 0.7483 - val_loss: 0.5096 - learning_rate: 0.0010\n",
            "Epoch 2/50\n",
            "\u001b[1m475/475\u001b[0m \u001b[32m━━━━━━━━━━━━━━━━━━━━\u001b[0m\u001b[37m\u001b[0m \u001b[1m366s\u001b[0m 770ms/step - accuracy: 0.7974 - loss: 0.4415 - val_accuracy: 0.8366 - val_loss: 0.3621 - learning_rate: 0.0010\n",
            "Epoch 3/50\n",
            "\u001b[1m475/475\u001b[0m \u001b[32m━━━━━━━━━━━━━━━━━━━━\u001b[0m\u001b[37m\u001b[0m \u001b[1m353s\u001b[0m 709ms/step - accuracy: 0.8398 - loss: 0.3620 - val_accuracy: 0.8569 - val_loss: 0.3304 - learning_rate: 0.0010\n",
            "Epoch 4/50\n",
            "\u001b[1m475/475\u001b[0m \u001b[32m━━━━━━━━━━━━━━━━━━━━\u001b[0m\u001b[37m\u001b[0m \u001b[1m341s\u001b[0m 718ms/step - accuracy: 0.8559 - loss: 0.3282 - val_accuracy: 0.8519 - val_loss: 0.3310 - learning_rate: 0.0010\n",
            "Epoch 5/50\n",
            "\u001b[1m475/475\u001b[0m \u001b[32m━━━━━━━━━━━━━━━━━━━━\u001b[0m\u001b[37m\u001b[0m \u001b[1m377s\u001b[0m 707ms/step - accuracy: 0.8680 - loss: 0.3132 - val_accuracy: 0.8722 - val_loss: 0.2935 - learning_rate: 0.0010\n",
            "Epoch 6/50\n",
            "\u001b[1m475/475\u001b[0m \u001b[32m━━━━━━━━━━━━━━━━━━━━\u001b[0m\u001b[37m\u001b[0m \u001b[1m385s\u001b[0m 715ms/step - accuracy: 0.8730 - loss: 0.2978 - val_accuracy: 0.8524 - val_loss: 0.3212 - learning_rate: 0.0010\n",
            "Epoch 7/50\n",
            "\u001b[1m475/475\u001b[0m \u001b[32m━━━━━━━━━━━━━━━━━━━━\u001b[0m\u001b[37m\u001b[0m \u001b[1m379s\u001b[0m 707ms/step - accuracy: 0.8744 - loss: 0.2962 - val_accuracy: 0.8748 - val_loss: 0.2893 - learning_rate: 0.0010\n",
            "Epoch 8/50\n",
            "\u001b[1m475/475\u001b[0m \u001b[32m━━━━━━━━━━━━━━━━━━━━\u001b[0m\u001b[37m\u001b[0m \u001b[1m384s\u001b[0m 712ms/step - accuracy: 0.8769 - loss: 0.2898 - val_accuracy: 0.8824 - val_loss: 0.2710 - learning_rate: 0.0010\n",
            "Epoch 9/50\n",
            "\u001b[1m475/475\u001b[0m \u001b[32m━━━━━━━━━━━━━━━━━━━━\u001b[0m\u001b[37m\u001b[0m \u001b[1m384s\u001b[0m 717ms/step - accuracy: 0.8878 - loss: 0.2683 - val_accuracy: 0.8716 - val_loss: 0.2852 - learning_rate: 0.0010\n",
            "Epoch 10/50\n",
            "\u001b[1m475/475\u001b[0m \u001b[32m━━━━━━━━━━━━━━━━━━━━\u001b[0m\u001b[37m\u001b[0m \u001b[1m382s\u001b[0m 718ms/step - accuracy: 0.8905 - loss: 0.2610 - val_accuracy: 0.8843 - val_loss: 0.2678 - learning_rate: 0.0010\n",
            "Epoch 11/50\n",
            "\u001b[1m475/475\u001b[0m \u001b[32m━━━━━━━━━━━━━━━━━━━━\u001b[0m\u001b[37m\u001b[0m \u001b[1m379s\u001b[0m 712ms/step - accuracy: 0.8993 - loss: 0.2506 - val_accuracy: 0.8822 - val_loss: 0.2586 - learning_rate: 0.0010\n",
            "Epoch 12/50\n",
            "\u001b[1m475/475\u001b[0m \u001b[32m━━━━━━━━━━━━━━━━━━━━\u001b[0m\u001b[37m\u001b[0m \u001b[1m384s\u001b[0m 717ms/step - accuracy: 0.8965 - loss: 0.2486 - val_accuracy: 0.8677 - val_loss: 0.2875 - learning_rate: 0.0010\n",
            "Epoch 13/50\n",
            "\u001b[1m475/475\u001b[0m \u001b[32m━━━━━━━━━━━━━━━━━━━━\u001b[0m\u001b[37m\u001b[0m \u001b[1m404s\u001b[0m 763ms/step - accuracy: 0.8989 - loss: 0.2423 - val_accuracy: 0.8922 - val_loss: 0.2530 - learning_rate: 0.0010\n",
            "Epoch 14/50\n",
            "\u001b[1m475/475\u001b[0m \u001b[32m━━━━━━━━━━━━━━━━━━━━\u001b[0m\u001b[37m\u001b[0m \u001b[1m375s\u001b[0m 748ms/step - accuracy: 0.8988 - loss: 0.2417 - val_accuracy: 0.8872 - val_loss: 0.2569 - learning_rate: 0.0010\n",
            "Epoch 15/50\n",
            "\u001b[1m475/475\u001b[0m \u001b[32m━━━━━━━━━━━━━━━━━━━━\u001b[0m\u001b[37m\u001b[0m \u001b[1m366s\u001b[0m 714ms/step - accuracy: 0.9020 - loss: 0.2394 - val_accuracy: 0.8969 - val_loss: 0.2469 - learning_rate: 0.0010\n",
            "Epoch 16/50\n",
            "\u001b[1m475/475\u001b[0m \u001b[32m━━━━━━━━━━━━━━━━━━━━\u001b[0m\u001b[37m\u001b[0m \u001b[1m385s\u001b[0m 721ms/step - accuracy: 0.9092 - loss: 0.2231 - val_accuracy: 0.9006 - val_loss: 0.2304 - learning_rate: 0.0010\n",
            "Epoch 17/50\n",
            "\u001b[1m475/475\u001b[0m \u001b[32m━━━━━━━━━━━━━━━━━━━━\u001b[0m\u001b[37m\u001b[0m \u001b[1m381s\u001b[0m 719ms/step - accuracy: 0.9076 - loss: 0.2231 - val_accuracy: 0.9030 - val_loss: 0.2363 - learning_rate: 0.0010\n",
            "Epoch 18/50\n",
            "\u001b[1m475/475\u001b[0m \u001b[32m━━━━━━━━━━━━━━━━━━━━\u001b[0m\u001b[37m\u001b[0m \u001b[1m383s\u001b[0m 721ms/step - accuracy: 0.9072 - loss: 0.2299 - val_accuracy: 0.8906 - val_loss: 0.2527 - learning_rate: 0.0010\n",
            "Epoch 19/50\n",
            "\u001b[1m475/475\u001b[0m \u001b[32m━━━━━━━━━━━━━━━━━━━━\u001b[0m\u001b[37m\u001b[0m \u001b[1m380s\u001b[0m 716ms/step - accuracy: 0.9057 - loss: 0.2218 - val_accuracy: 0.8991 - val_loss: 0.2414 - learning_rate: 0.0010\n",
            "Epoch 20/50\n",
            "\u001b[1m475/475\u001b[0m \u001b[32m━━━━━━━━━━━━━━━━━━━━\u001b[0m\u001b[37m\u001b[0m \u001b[1m384s\u001b[0m 722ms/step - accuracy: 0.9126 - loss: 0.2130 - val_accuracy: 0.9038 - val_loss: 0.2304 - learning_rate: 0.0010\n",
            "Epoch 21/50\n",
            "\u001b[1m475/475\u001b[0m \u001b[32m━━━━━━━━━━━━━━━━━━━━\u001b[0m\u001b[37m\u001b[0m \u001b[1m342s\u001b[0m 720ms/step - accuracy: 0.9119 - loss: 0.2084 - val_accuracy: 0.8951 - val_loss: 0.2594 - learning_rate: 0.0010\n"
          ]
        }
      ],
      "source": [
        "# --- CALLBACKS ---\n",
        "early_stopping = EarlyStopping(\n",
        "    monitor='val_loss',\n",
        "    patience=5,\n",
        "    restore_best_weights=True\n",
        ")\n",
        "\n",
        "reduce_lr = ReduceLROnPlateau(\n",
        "    monitor='val_loss',\n",
        "    factor=0.5,\n",
        "    patience=5,\n",
        "    min_lr=1e-5\n",
        ")\n",
        "\n",
        "# --- ENTRAÎNEMENT ---\n",
        "history_v3 = model_v3.fit(\n",
        "    train_dataset,                # On utilise tf.data.Dataset\n",
        "    validation_data=val_dataset,  # Dataset de validation\n",
        "    epochs=50,\n",
        "    verbose=1,\n",
        "    callbacks=[early_stopping, reduce_lr]\n",
        ")\n"
      ]
    },
    {
      "cell_type": "markdown",
      "metadata": {
        "id": "_GgawPG0rDF6"
      },
      "source": [
        "### Analyse des métriques"
      ]
    },
    {
      "cell_type": "markdown",
      "metadata": {
        "id": "L8Y2fhwdGp0a"
      },
      "source": [
        "L’objectif de V3 était d'observer l’impact de l’augmentation de la résolution des images (128×128) et de la nouvelle méthode de gestion des images sur les performances du modèle.\n",
        "\n",
        "\n",
        "Cette version est comparée à V2 (64×64) afin d’observer les éventuelles améliorations en termes de précision, de généralisation et de stabilité de l’apprentissage."
      ]
    },
    {
      "cell_type": "code",
      "execution_count": null,
      "metadata": {
        "colab": {
          "base_uri": "https://localhost:8080/"
        },
        "id": "9Vf2xuFvqnqJ",
        "outputId": "9dc8d344-1a8d-4ff9-967d-e43e75fea019"
      },
      "outputs": [
        {
          "name": "stdout",
          "output_type": "stream",
          "text": [
            "[V3] Test accuracy: 0.9062\n",
            "\u001b[1m149/149\u001b[0m \u001b[32m━━━━━━━━━━━━━━━━━━━━\u001b[0m\u001b[37m\u001b[0m \u001b[1m22s\u001b[0m 149ms/step\n",
            "              precision    recall  f1-score   support\n",
            "\n",
            "       Homme       0.92      0.90      0.91      2478\n",
            "       Femme       0.89      0.91      0.90      2264\n",
            "\n",
            "    accuracy                           0.91      4742\n",
            "   macro avg       0.91      0.91      0.91      4742\n",
            "weighted avg       0.91      0.91      0.91      4742\n",
            "\n"
          ]
        }
      ],
      "source": [
        "# --- ÉVALUATION SUR LE TEST SET ---\n",
        "test_loss_v3, test_acc_v3 = model_v3.evaluate(test_dataset, verbose=0)\n",
        "print(f\"[V3] Test accuracy: {test_acc_v3:.4f}\")\n",
        "\n",
        "# --- PRÉDICTIONS SUR LE TEST SET ---\n",
        "y_pred_prob_v3 = model_v3.predict(test_dataset)\n",
        "y_pred_v3 = (y_pred_prob_v3 > 0.5).astype(\"int32\")\n",
        "\n",
        "# Récupération des vraies étiquettes du test set\n",
        "y_true_v3 = np.concatenate([y for _, y in test_dataset], axis=0)\n",
        "\n",
        "# Rapport de classification pour le jeu de test\n",
        "print(classification_report(y_true_v3, y_pred_v3, target_names=[\"Homme\", \"Femme\"]))\n"
      ]
    },
    {
      "cell_type": "markdown",
      "metadata": {
        "id": "Ad7ms1_5G1-B"
      },
      "source": [
        "L’accuracy du test a légèrement diminué de 91.42 % (V2) à 90.62 % (V3), tandis que celle de validation a également baissé d’environ 1.2 %.\n",
        "\n",
        "Contrairement aux attentes, l’augmentation de la résolution n’a pas entraîné d’amélioration notables des performances, ce qui suggère que\n",
        "\n",
        "La résolution 64×64 capturait déjà suffisamment d’informations pour la classification, et la montée en 128×128 n’a pas ajouté de valeur discriminante.\n",
        "La montée en résolution a augmenté la complexité du modèle, mais sans un gain clair en termes de généralisation."
      ]
    },
    {
      "cell_type": "code",
      "execution_count": null,
      "metadata": {
        "colab": {
          "base_uri": "https://localhost:8080/"
        },
        "id": "EolP29CtrITN",
        "outputId": "8e1a5304-3992-4a6a-f162-6538019ef76f"
      },
      "outputs": [
        {
          "name": "stdout",
          "output_type": "stream",
          "text": [
            "[V3] Validation accuracy: 0.9006\n",
            "\u001b[1m119/119\u001b[0m \u001b[32m━━━━━━━━━━━━━━━━━━━━\u001b[0m\u001b[37m\u001b[0m \u001b[1m17s\u001b[0m 145ms/step\n",
            "              precision    recall  f1-score   support\n",
            "\n",
            "       Homme       0.92      0.89      0.90      1983\n",
            "       Femme       0.88      0.91      0.90      1811\n",
            "\n",
            "    accuracy                           0.90      3794\n",
            "   macro avg       0.90      0.90      0.90      3794\n",
            "weighted avg       0.90      0.90      0.90      3794\n",
            "\n"
          ]
        }
      ],
      "source": [
        "# --- ÉVALUATION SUR LE VALIDATION SET ---\n",
        "val_loss_v3, val_acc_v3 = model_v3.evaluate(val_dataset, verbose=0)\n",
        "print(f\"[V3] Validation accuracy: {val_acc_v3:.4f}\")\n",
        "\n",
        "# --- PRÉDICTIONS SUR LE VALIDATION SET ---\n",
        "y_pred_prob_val_v3 = model_v3.predict(val_dataset)\n",
        "y_pred_val_v3 = (y_pred_prob_val_v3 > 0.5).astype(\"int32\")\n",
        "\n",
        "# Récupération des vraies étiquettes du validation set\n",
        "y_true_val_v3 = np.concatenate([y for _, y in val_dataset], axis=0)\n",
        "\n",
        "# Rapport de classification pour le jeu de validation\n",
        "print(classification_report(y_true_val_v3, y_pred_val_v3, target_names=[\"Homme\", \"Femme\"]))"
      ]
    },
    {
      "cell_type": "markdown",
      "metadata": {
        "id": "cKdWpfH8HFSv"
      },
      "source": [
        "Les scores montrent une légère baisse du rappel pour la classe \"Homme\" dans V3 (de 0.92 à 0.90), tandis que la précision de la classe \"Femme\" diminue également légèrement (de 0.91 à 0.89).\n",
        "\n",
        "Ces changements indiquent que le modèle V3, composé de couches et paramètres plus importants, a plus de difficultés à identifier correctement certaines classes par rapport à V2.\n",
        "\n",
        "Il n'y a pas d'amélioration.\n"
      ]
    },
    {
      "cell_type": "markdown",
      "metadata": {
        "id": "r-4iSKFuGjNC"
      },
      "source": [
        "### Visualisations de la courbe de la fonction de perte et de l'accuracy"
      ]
    },
    {
      "cell_type": "code",
      "execution_count": null,
      "metadata": {
        "colab": {
          "base_uri": "https://localhost:8080/",
          "height": 407
        },
        "id": "3mqS6oMFfVBV",
        "outputId": "ababf710-998f-44a1-8fbd-efba6729931f"
      },
      "outputs": [
        {
          "data": {
            "image/png": "[encoded data removed]",
            "text/plain": [
              "<Figure size 1000x400 with 2 Axes>"
            ]
          },
          "metadata": {},
          "output_type": "display_data"
        }
      ],
      "source": [
        "plt.figure(figsize=(10,4))\n",
        "\n",
        "# Courbe de la fonction de perte\n",
        "plt.subplot(1,2,1)\n",
        "plt.plot(history_v3.history['loss'], label='Train Loss')\n",
        "plt.plot(history_v3.history['val_loss'], label='Val Loss')\n",
        "plt.xlabel('Époques')\n",
        "plt.ylabel('Perte (Loss)')\n",
        "plt.legend()\n",
        "plt.title('[V3] Training & Validation Loss')\n",
        "\n",
        "# Courbe d’accuracy\n",
        "plt.subplot(1,2,2)\n",
        "plt.plot(history_v3.history['accuracy'], label='Train Accuracy')\n",
        "plt.plot(history_v3.history['val_accuracy'], label='Val Accuracy')\n",
        "plt.xlabel('Époques')\n",
        "plt.ylabel('Exactitude (Accuracy)')\n",
        "plt.legend()\n",
        "plt.title('[V3] Training & Validation Accuracy')\n",
        "\n",
        "plt.tight_layout()\n",
        "plt.show()\n"
      ]
    },
    {
      "cell_type": "markdown",
      "metadata": {
        "id": "XgQF8-bpH-ul"
      },
      "source": [
        "Fonction de Perte (Loss)\n",
        "\n",
        "La perte d’entraînement diminue de manière continue, indiquant un bon apprentissage.\n",
        "\n",
        "La perte de validation montre plus de fluctuations, notamment vers la fin de l’entraînement, suggérant une moins bonne stabilité par rapport à V2.\n",
        "\n",
        "Une légère remontée de la validation loss vers la fin pourrait indiquer un début de surapprentissage.\n",
        "\n",
        "Précision (Accuracy)\n",
        "L’accuracy d’entraînement et de validation suivent une trajectoire similaire, bien que l’accuracy de validation fluctue davantage que dans V2.\n",
        "\n",
        "À partir de la 10ᵉ époque, l’accuracy de validation cesse de progresser, ce qui peut indiquer que le modèle ne bénéficie pas autant de l'augmentation de la résolution."
      ]
    },
    {
      "cell_type": "markdown",
      "metadata": {
        "id": "nyw3d2o6IfbB"
      },
      "source": [
        "# Conclusion"
      ]
    },
    {
      "cell_type": "markdown",
      "metadata": {
        "id": "4xBAksX0IiL6"
      },
      "source": [
        "L’amélioration du modèle V3 n’a pas entraîné une augmentation des performances, contrairement aux attentes. La montée en résolution à 128×128 ne semble pas apporter de bénéfice pour la tâche de classification de genre avec ce modèle.\n",
        "\n",
        "En effet, nous observons une très légère baisse des performances globales, malgré une meilleure définition des images ainsi qu'un début de surapprentissage vers la fin de l’entraînement (mais qui pourrait être atténué avec davantage de régularisation)\n",
        "\n",
        "\n",
        "Cette v3 montre que l’augmentation de la résolution ne garantit pas une amélioration automatique des performances.\n",
        "\n",
        "Par conséquent, nous sauvegarderons le modèle v2 pour entamer les questions suviantes, sur Gradio et HuggingFace."
      ]
    },
    {
      "cell_type": "code",
      "execution_count": null,
      "metadata": {
        "id": "5JTu1SUkJRmh"
      },
      "outputs": [],
      "source": [
        "model_v2.save(\"model_v2_Q1.keras\")\n",
        "\n",
        "from google.colab import files\n",
        "files.download(\"model_v2_Q1.keras\")"
      ]
    }
  ],
  "metadata": {
    "accelerator": "GPU",
    "colab": {
      "gpuType": "T4",
      "provenance": [],
      "toc_visible": true
    },
    "kernelspec": {
      "display_name": "Python 3",
      "name": "python3"
    },
    "language_info": {
      "name": "python"
    }
  },
  "nbformat": 4,
  "nbformat_minor": 0
}
